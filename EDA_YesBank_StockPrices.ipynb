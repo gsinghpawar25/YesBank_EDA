{
 "cells": [
  {
   "cell_type": "code",
   "execution_count": null,
   "metadata": {
    "id": "I1apcow5dxii"
   },
   "outputs": [],
   "source": []
  },
  {
   "cell_type": "markdown",
   "metadata": {
    "id": "vncDsAP0Gaoa"
   },
   "source": [
    "# **Project Name**  -  **Yes Bank Stock Prices Analysis**  \n",
    "\n"
   ]
  },
  {
   "cell_type": "markdown",
   "metadata": {
    "id": "beRrZCGUAJYm"
   },
   "source": [
    "##### **Project Type**    - EDA\n"
   ]
  },
  {
   "cell_type": "markdown",
   "metadata": {
    "id": "FJNUwmbgGyua"
   },
   "source": [
    "# **Project Summary -**"
   ]
  },
  {
   "cell_type": "markdown",
   "metadata": {
    "id": "F6v_1wHtG2nS"
   },
   "source": [
    "***Yes Bank*** is a private sector bank in India, founded in 2004, that provides a range of banking and financial services to individuals and businesses. Over the years, it has witnessed significant growth but has also faced financial challenges, including a crisis in 2020 that led to regulatory intervention and restructuring. The financial sector is one of the most dynamic industries, with stock prices fluctuating based on various economic and market factors.\n",
    "\n",
    "This report presents an **exploratory data analysis (EDA)** of ***Yes Bank***’s stock prices over a period spanning from **July 2005 to November 2020**. The dataset contains **185 records** and **five key attributes: `Date`, `Open`, `High`, `Low`, and `Close` prices**. The data has been verified to contain **no missing values or duplicate rows**, ensuring its integrity for analysis.\n",
    "\n",
    "---\n",
    "\n",
    "**Overview of the Dataset**\n",
    "\n",
    "- The **`Date`** column, originally in an object format, was converted to a datetime format for time-series analysis.\n",
    "\n",
    "- The remaining columns (**`Open`, `High`, `Low`, and `Close`**) are in float format, representing stock prices at different points in time.\n",
    "\n",
    "---\n",
    "\n",
    "**Statistical Summary**\n",
    "\n",
    "A statistical breakdown of the stock price attributes is as follows:\n",
    "\n",
    "- **Opening Price (`Open`)**\n",
    "\n",
    "    - Mean: **105.54**\n",
    "\n",
    "    - Minimum: **10.00**\n",
    "\n",
    "    - Maximum: **369.95**\n",
    "\n",
    "    - Standard Deviation: **98.88**\n",
    "\n",
    "\n",
    "- **Highest Price (`High`)**\n",
    "\n",
    "    - Mean: **116.10**\n",
    "\n",
    "    - Minimum: **11.24**\n",
    "\n",
    "    - Maximum: **404.00**\n",
    "\n",
    "    - Standard Deviation: **106.33**\n",
    "\n",
    "\n",
    "- **Lowest Price (`Low`)**\n",
    "\n",
    "    - Mean: **94.95**\n",
    "\n",
    "    - Minimum: **5.55**\n",
    "\n",
    "    - Maximum: **345.50**\n",
    "    \n",
    "    - Standard Deviation: **91.22**\n",
    "\n",
    "\n",
    "- **Closing Price (`Close`)**\n",
    "\n",
    "    - Mean: **105.20**\n",
    "\n",
    "    - Minimum: **9.98**\n",
    "\n",
    "    - Maximum: **367.90**\n",
    "\n",
    "    - Standard Deviation: **98.58**\n",
    "\n",
    "\n",
    "These statistics indicate significant volatility in ***Yes Bank***’s stock prices, with large variations in minimum and maximum values.\n",
    "\n",
    "---\n",
    "\n",
    "**Time Period and Trends**\n",
    "\n",
    "- The dataset covers **15+ years** of stock price movements from **July 2005 to November 2020**.\n",
    "\n",
    "- The **range of values** suggests that the stock experienced periods of substantial growth and decline.\n",
    "\n",
    "- The **mean values** across all columns indicate that ***Yes Bank***'s stock had a period of strong performance before seeing a downward trend.\n",
    "\n",
    "---\n",
    "\n",
    "**Key Insights**\n",
    "\n",
    "1. **High Volatility:**\n",
    "\n",
    "    - The stock price fluctuated between **₹10 and ₹404**, highlighting a significant degree of market volatility.\n",
    "\n",
    "    - The high standard deviation values confirm major swings in stock prices over time.\n",
    "\n",
    "\n",
    "2. **Potential Growth Phases:**\n",
    "\n",
    "    - The stock saw a peak **around ₹404**, followed by a sharp decline.\n",
    "\n",
    "    - The 75th percentile values indicate that at one point, a significant portion of stock prices were well above **₹150**.\n",
    "\n",
    "\n",
    "3. **Recent Declines:**\n",
    "\n",
    "    - The minimum values indicate that ***Yes Bank***’s stock has experienced severe lows, possibly due to financial instability or external market conditions.\n",
    "\n",
    "---\n",
    "\n",
    "**Conclusion**\n",
    "\n",
    "This exploratory analysis of **Yes Bank**’s stock prices highlights key trends and fluctuations over the years. The stock experienced phases of high growth, reaching peaks, but also witnessed sharp declines, possibly due to financial challenges. Further analysis could focus on identifying major events and external factors affecting these stock movements, such as regulatory actions, market trends, or economic conditions.\n",
    "\n",
    "---"
   ]
  },
  {
   "cell_type": "markdown",
   "metadata": {
    "id": "w6K7xa23Elo4"
   },
   "source": [
    "# **GitHub Link -**"
   ]
  },
  {
   "cell_type": "markdown",
   "metadata": {
    "id": "h1o69JH3Eqqn"
   },
   "source": [
    "[GitHub](https://github.com/gsinghpawar25)\n",
    "\n",
    "---"
   ]
  },
  {
   "cell_type": "markdown",
   "metadata": {
    "id": "yQaldy8SH6Dl"
   },
   "source": [
    "# **Problem Statement**\n"
   ]
  },
  {
   "cell_type": "markdown",
   "metadata": {
    "id": "DpeJGUA3kjGy"
   },
   "source": [
    "Stock market investments are inherently volatile, and understanding price movements is crucial for investors, analysts, and policymakers. ***Yes Bank***, a prominent Indian private sector bank, has witnessed significant fluctuations in its stock prices over the years, with periods of rapid growth followed by sharp declines. Analyzing historical stock price data can help identify key trends, patterns, and factors influencing these fluctuations.\n",
    "\n",
    "This project aims to perform **Exploratory Data Analysis (EDA)** on ***Yes Bank***’s stock prices from ***July 2005 to November 2020*** to understand the stock's historical performance, detect volatility trends, and assess possible reasons for significant price changes.\n",
    "\n",
    "\n",
    "The key objectives of this analysis include:\n",
    "\n",
    "- Identifying **patterns and trends** in stock price movements over time.\n",
    "\n",
    "- Analyzing stock **volatility** by examining the spread of opening, high, low, and closing prices.\n",
    "\n",
    "- Understanding **major fluctuations** and detecting periods of extreme price variations.\n",
    "\n",
    "- Providing insights into potential factors that may have influenced stock price behavior, such as market events, economic conditions, or financial instability.\n",
    "\n",
    "\n",
    "This analysis will help investors, researchers, and financial analysts gain a data-driven understanding of ***Yes Bank***’s stock performance, assisting in making informed investment and strategic decisions.\n",
    "\n",
    "---"
   ]
  },
  {
   "cell_type": "markdown",
   "metadata": {
    "id": "PH-0ReGfmX4f"
   },
   "source": [
    "## **Business Objective(s)**"
   ]
  },
  {
   "cell_type": "markdown",
   "metadata": {
    "id": "PhDvGCAqmjP1"
   },
   "source": [
    "The primary goal of this project is to analyze ***Yes Bank***’s stock price movements over time and extract meaningful insights that can support financial decision-making. By leveraging historical stock price data from **July 2005 to November 2020**, this analysis aims to fulfill the following business objectives:\n",
    "\n",
    "**1. Understanding Stock Price Trends**\n",
    "\n",
    "- Identify **long-term trends** in ***Yes Bank***’s stock prices, including phases of growth, stability, and decline.\n",
    "\n",
    "- Examine price movements over different periods to recognize **bullish and bearish trends**.\n",
    "\n",
    "- Analyze **seasonal patterns or recurring fluctuations** in stock prices.\n",
    "\n",
    "\n",
    "**2. Assessing Stock Volatility and Risk**\n",
    "\n",
    "- Measure the **degree of volatility** in ***Yes Bank***’s stock using statistical indicators such as range, standard deviation, and price fluctuations.\n",
    "\n",
    "- Identify periods of **high and low volatility**, helping investors assess risk levels.\n",
    "\n",
    "- Provide insights into how external market conditions may have impacted stock stability.\n",
    "\n",
    "\n",
    "**3. Supporting Investment and Trading Decisions**\n",
    "\n",
    "- Help investors determine if ***Yes Bank***’s stock has historically been a **profitable investment**.\n",
    "\n",
    "- Assist traders in identifying **buying and selling opportunities** based on historical price movements.\n",
    "\n",
    "- Provide insights into **risk-reward ratios**, helping stakeholders make informed financial decisions.\n",
    "\n",
    "\n",
    "**4. Evaluating Financial Market Events Impact**\n",
    "\n",
    "- Analyze the stock’s reaction to **major economic and financial events**, such as regulatory changes, banking crises, or economic downturns.\n",
    "\n",
    "- Correlate stock price fluctuations with significant events to understand market behavior.\n",
    "\n",
    "\n",
    "**5. Providing Data-Driven Insights for Financial Analysts**\n",
    "\n",
    "- Help financial analysts and institutions assess **historical stock performance** as a benchmark for future trends.\n",
    "\n",
    "- Provide insights that can be used in **predictive modeling** and future stock price forecasting.\n",
    "\n",
    "\n",
    "By achieving these business objectives, this analysis will enable investors, analysts, and financial institutions to make **informed, data-driven decisions** regarding ***Yes Bank***’s stock.\n",
    "\n",
    "---"
   ]
  },
  {
   "cell_type": "markdown",
   "metadata": {
    "id": "O_i_v8NEhb9l"
   },
   "source": [
    "# ***Let's Begin !***"
   ]
  },
  {
   "cell_type": "markdown",
   "metadata": {
    "id": "HhfV-JJviCcP"
   },
   "source": [
    "## ***1. Knowing Data***"
   ]
  },
  {
   "cell_type": "markdown",
   "metadata": {
    "id": "Y3lxredqlCYt"
   },
   "source": [
    "### Importing Libraries"
   ]
  },
  {
   "cell_type": "code",
   "execution_count": 1,
   "metadata": {
    "id": "M8Vqi-pPk-HR"
   },
   "outputs": [],
   "source": [
    "import numpy as np\n",
    "import pandas as pd\n",
    "import matplotlib.pyplot as plt\n",
    "import seaborn as sns"
   ]
  },
  {
   "cell_type": "markdown",
   "metadata": {
    "id": "3RnN4peoiCZX"
   },
   "source": [
    "### Dataset Loading"
   ]
  },
  {
   "cell_type": "code",
   "execution_count": 2,
   "metadata": {
    "id": "4CkvbW_SlZ_R"
   },
   "outputs": [],
   "source": [
    "df = pd.read_csv(\"data_YesBank_StockPrices.csv\", encoding_errors='ignore')"
   ]
  },
  {
   "cell_type": "markdown",
   "metadata": {
    "id": "x71ZqKXriCWQ"
   },
   "source": [
    "### Dataset First View"
   ]
  },
  {
   "cell_type": "code",
   "execution_count": 3,
   "metadata": {
    "id": "LWNFOSvLl09H"
   },
   "outputs": [
    {
     "data": {
      "text/html": [
       "<div>\n",
       "<style scoped>\n",
       "    .dataframe tbody tr th:only-of-type {\n",
       "        vertical-align: middle;\n",
       "    }\n",
       "\n",
       "    .dataframe tbody tr th {\n",
       "        vertical-align: top;\n",
       "    }\n",
       "\n",
       "    .dataframe thead th {\n",
       "        text-align: right;\n",
       "    }\n",
       "</style>\n",
       "<table border=\"1\" class=\"dataframe\">\n",
       "  <thead>\n",
       "    <tr style=\"text-align: right;\">\n",
       "      <th></th>\n",
       "      <th>Date</th>\n",
       "      <th>Open</th>\n",
       "      <th>High</th>\n",
       "      <th>Low</th>\n",
       "      <th>Close</th>\n",
       "    </tr>\n",
       "  </thead>\n",
       "  <tbody>\n",
       "    <tr>\n",
       "      <th>0</th>\n",
       "      <td>Jul-05</td>\n",
       "      <td>13.00</td>\n",
       "      <td>14.00</td>\n",
       "      <td>11.25</td>\n",
       "      <td>12.46</td>\n",
       "    </tr>\n",
       "    <tr>\n",
       "      <th>1</th>\n",
       "      <td>Aug-05</td>\n",
       "      <td>12.58</td>\n",
       "      <td>14.88</td>\n",
       "      <td>12.55</td>\n",
       "      <td>13.42</td>\n",
       "    </tr>\n",
       "    <tr>\n",
       "      <th>2</th>\n",
       "      <td>Sep-05</td>\n",
       "      <td>13.48</td>\n",
       "      <td>14.87</td>\n",
       "      <td>12.27</td>\n",
       "      <td>13.30</td>\n",
       "    </tr>\n",
       "    <tr>\n",
       "      <th>3</th>\n",
       "      <td>Oct-05</td>\n",
       "      <td>13.20</td>\n",
       "      <td>14.47</td>\n",
       "      <td>12.40</td>\n",
       "      <td>12.99</td>\n",
       "    </tr>\n",
       "    <tr>\n",
       "      <th>4</th>\n",
       "      <td>Nov-05</td>\n",
       "      <td>13.35</td>\n",
       "      <td>13.88</td>\n",
       "      <td>12.88</td>\n",
       "      <td>13.41</td>\n",
       "    </tr>\n",
       "  </tbody>\n",
       "</table>\n",
       "</div>"
      ],
      "text/plain": [
       "     Date   Open   High    Low  Close\n",
       "0  Jul-05  13.00  14.00  11.25  12.46\n",
       "1  Aug-05  12.58  14.88  12.55  13.42\n",
       "2  Sep-05  13.48  14.87  12.27  13.30\n",
       "3  Oct-05  13.20  14.47  12.40  12.99\n",
       "4  Nov-05  13.35  13.88  12.88  13.41"
      ]
     },
     "execution_count": 3,
     "metadata": {},
     "output_type": "execute_result"
    }
   ],
   "source": [
    "df.head()"
   ]
  },
  {
   "cell_type": "markdown",
   "metadata": {
    "id": "7hBIi_osiCS2"
   },
   "source": [
    "### Dataset Rows & Columns count"
   ]
  },
  {
   "cell_type": "code",
   "execution_count": 6,
   "metadata": {
    "id": "Kllu7SJgmLij"
   },
   "outputs": [
    {
     "name": "stdout",
     "output_type": "stream",
     "text": [
      "Rows : 185\n",
      "Columns : 5\n"
     ]
    }
   ],
   "source": [
    "print(\"Rows :\",df.shape[0])\n",
    "print(\"Columns :\",df.shape[1])"
   ]
  },
  {
   "cell_type": "markdown",
   "metadata": {
    "id": "JlHwYmJAmNHm"
   },
   "source": [
    "### Dataset Information"
   ]
  },
  {
   "cell_type": "code",
   "execution_count": 7,
   "metadata": {
    "id": "e9hRXRi6meOf"
   },
   "outputs": [
    {
     "name": "stdout",
     "output_type": "stream",
     "text": [
      "<class 'pandas.core.frame.DataFrame'>\n",
      "RangeIndex: 185 entries, 0 to 184\n",
      "Data columns (total 5 columns):\n",
      " #   Column  Non-Null Count  Dtype  \n",
      "---  ------  --------------  -----  \n",
      " 0   Date    185 non-null    object \n",
      " 1   Open    185 non-null    float64\n",
      " 2   High    185 non-null    float64\n",
      " 3   Low     185 non-null    float64\n",
      " 4   Close   185 non-null    float64\n",
      "dtypes: float64(4), object(1)\n",
      "memory usage: 7.4+ KB\n"
     ]
    }
   ],
   "source": [
    "df.info()"
   ]
  },
  {
   "cell_type": "markdown",
   "metadata": {
    "id": "35m5QtbWiB9F"
   },
   "source": [
    "#### Duplicate Values"
   ]
  },
  {
   "cell_type": "code",
   "execution_count": 10,
   "metadata": {
    "id": "1sLdpKYkmox0"
   },
   "outputs": [
    {
     "name": "stdout",
     "output_type": "stream",
     "text": [
      "Duplicate Values : 0\n"
     ]
    }
   ],
   "source": [
    "print(\"Duplicate Values :\",int(df.duplicated().sum()))"
   ]
  },
  {
   "cell_type": "markdown",
   "metadata": {
    "id": "PoPl-ycgm1ru"
   },
   "source": [
    "#### Missing Values/Null Values check for each column"
   ]
  },
  {
   "cell_type": "code",
   "execution_count": 13,
   "metadata": {
    "id": "GgHWkxvamxVg"
   },
   "outputs": [
    {
     "data": {
      "text/plain": [
       "Date     0\n",
       "Open     0\n",
       "High     0\n",
       "Low      0\n",
       "Close    0\n",
       "dtype: int64"
      ]
     },
     "execution_count": 13,
     "metadata": {},
     "output_type": "execute_result"
    }
   ],
   "source": [
    "\n",
    "df.isnull().sum()"
   ]
  },
  {
   "cell_type": "code",
   "execution_count": null,
   "metadata": {
    "id": "3q5wnI3om9sJ"
   },
   "outputs": [
    {
     "data": {
      "image/png": "[encoded data removed]",
      "text/plain": [
       "<Figure size 640x480 with 1 Axes>"
      ]
     },
     "metadata": {},
     "output_type": "display_data"
    }
   ],
   "source": [
    "# Visualizing the missing values\n",
    "\n",
    "# Creating a scatterplot to visualize missing values\n",
    "sns.scatterplot(df.isnull())\n",
    "\n",
    "# Adding title\n",
    "plt.title(\"Missing Values heatmap\")\n",
    "\n",
    "# Displaying a chart\n",
    "plt.show()"
   ]
  },
  {
   "cell_type": "markdown",
   "metadata": {
    "id": "H0kj-8xxnORC"
   },
   "source": [
    "## **What do we know about the dataset?**"
   ]
  },
  {
   "cell_type": "markdown",
   "metadata": {
    "id": "gfoNAAC-nUe_"
   },
   "source": [
    "The dataset used in the **Yes Bank Stock Prices Analysis** project consists of **185 rows and 5 columns**. It contains historical stock price data for ***Yes Bank***, It covers a time period from **July 2005 to November 2020**. The dataset is well-structured with **no duplicate rows** and **no missing values**, ensuring data integrity for analysis.\n",
    "\n",
    "\n",
    "**Dataset Features:**\n",
    "\n",
    "- The **`Date`** column is in object format, which **`should be`** converted to datetime for analysis.\n",
    "\n",
    "- The **`Open`, `High`, `Low`, and `Close`** columns are in float format, representing stock price movements.\n",
    "\n",
    "- The stock experienced **high volatility**, with prices ranging from **₹10 to ₹404** over the years.\n",
    "\n",
    "- The mean closing price is **₹105.20**, indicating a fluctuating market trend.\n",
    "\n",
    "\n",
    "This dataset provides valuable insights into ***Yes Bank***’s historical stock performance, helping us analyze **price trends, volatility,** and **major fluctuations** over time.\n",
    "\n",
    "---"
   ]
  },
  {
   "cell_type": "markdown",
   "metadata": {
    "id": "nA9Y7ga8ng1Z"
   },
   "source": [
    "## ***2. Understanding Your Variables***"
   ]
  },
  {
   "cell_type": "code",
   "execution_count": 24,
   "metadata": {
    "id": "j7xfkqrt5Ag5"
   },
   "outputs": [
    {
     "data": {
      "text/plain": [
       "['Date', 'Open', 'High', 'Low', 'Close']"
      ]
     },
     "execution_count": 24,
     "metadata": {},
     "output_type": "execute_result"
    }
   ],
   "source": [
    "# Dataset Columns\n",
    "\n",
    "list(df.columns)"
   ]
  },
  {
   "cell_type": "code",
   "execution_count": 28,
   "metadata": {
    "id": "DnOaZdaE5Q5t"
   },
   "outputs": [
    {
     "data": {
      "text/html": [
       "<div>\n",
       "<style scoped>\n",
       "    .dataframe tbody tr th:only-of-type {\n",
       "        vertical-align: middle;\n",
       "    }\n",
       "\n",
       "    .dataframe tbody tr th {\n",
       "        vertical-align: top;\n",
       "    }\n",
       "\n",
       "    .dataframe thead th {\n",
       "        text-align: right;\n",
       "    }\n",
       "</style>\n",
       "<table border=\"1\" class=\"dataframe\">\n",
       "  <thead>\n",
       "    <tr style=\"text-align: right;\">\n",
       "      <th></th>\n",
       "      <th>Open</th>\n",
       "      <th>High</th>\n",
       "      <th>Low</th>\n",
       "      <th>Close</th>\n",
       "    </tr>\n",
       "  </thead>\n",
       "  <tbody>\n",
       "    <tr>\n",
       "      <th>count</th>\n",
       "      <td>185.000000</td>\n",
       "      <td>185.000000</td>\n",
       "      <td>185.000000</td>\n",
       "      <td>185.000000</td>\n",
       "    </tr>\n",
       "    <tr>\n",
       "      <th>mean</th>\n",
       "      <td>105.541405</td>\n",
       "      <td>116.104324</td>\n",
       "      <td>94.947838</td>\n",
       "      <td>105.204703</td>\n",
       "    </tr>\n",
       "    <tr>\n",
       "      <th>std</th>\n",
       "      <td>98.879850</td>\n",
       "      <td>106.333497</td>\n",
       "      <td>91.219415</td>\n",
       "      <td>98.583153</td>\n",
       "    </tr>\n",
       "    <tr>\n",
       "      <th>min</th>\n",
       "      <td>10.000000</td>\n",
       "      <td>11.240000</td>\n",
       "      <td>5.550000</td>\n",
       "      <td>9.980000</td>\n",
       "    </tr>\n",
       "    <tr>\n",
       "      <th>25%</th>\n",
       "      <td>33.800000</td>\n",
       "      <td>36.140000</td>\n",
       "      <td>28.510000</td>\n",
       "      <td>33.450000</td>\n",
       "    </tr>\n",
       "    <tr>\n",
       "      <th>50%</th>\n",
       "      <td>62.980000</td>\n",
       "      <td>72.550000</td>\n",
       "      <td>58.000000</td>\n",
       "      <td>62.540000</td>\n",
       "    </tr>\n",
       "    <tr>\n",
       "      <th>75%</th>\n",
       "      <td>153.000000</td>\n",
       "      <td>169.190000</td>\n",
       "      <td>138.350000</td>\n",
       "      <td>153.300000</td>\n",
       "    </tr>\n",
       "    <tr>\n",
       "      <th>max</th>\n",
       "      <td>369.950000</td>\n",
       "      <td>404.000000</td>\n",
       "      <td>345.500000</td>\n",
       "      <td>367.900000</td>\n",
       "    </tr>\n",
       "  </tbody>\n",
       "</table>\n",
       "</div>"
      ],
      "text/plain": [
       "             Open        High         Low       Close\n",
       "count  185.000000  185.000000  185.000000  185.000000\n",
       "mean   105.541405  116.104324   94.947838  105.204703\n",
       "std     98.879850  106.333497   91.219415   98.583153\n",
       "min     10.000000   11.240000    5.550000    9.980000\n",
       "25%     33.800000   36.140000   28.510000   33.450000\n",
       "50%     62.980000   72.550000   58.000000   62.540000\n",
       "75%    153.000000  169.190000  138.350000  153.300000\n",
       "max    369.950000  404.000000  345.500000  367.900000"
      ]
     },
     "execution_count": 28,
     "metadata": {},
     "output_type": "execute_result"
    }
   ],
   "source": [
    "# Dataset Description\n",
    "\n",
    "df.describe()"
   ]
  },
  {
   "cell_type": "markdown",
   "metadata": {
    "id": "PBTbrJXOngz2"
   },
   "source": [
    "### **Variables Description**"
   ]
  },
  {
   "cell_type": "markdown",
   "metadata": {
    "id": "aJV4KIxSnxay"
   },
   "source": [
    "The dataset consists of **185 rows and 5 columns**, each representing different stock price attributes for ***Yes Bank***. Below is a description of each variable:\n",
    "\n",
    "| **Variable Name** | **Description** | **Data Type** |\n",
    "| ----------------- | --------------- | ------------- |\n",
    "| **`Date`** | The month and year when the stock price was recorded. This serves as the time index for the dataset. | `Object` |\n",
    "| **`Open`** | The stock price at the beginning of the month, indicating the starting price for trading. | `Float` |\n",
    "| **`High`** | The highest stock price recorded during the month, representing the peak value within that period. | `Float` |\n",
    "| **`Low`**  | The lowest stock price recorded during the month, showing the minimum price reached. | `Float` |\n",
    "| **`Close`** | The stock price at the end of the month, showing the final value after all trading activities. | `Float` |\n",
    "\n",
    "\n",
    "**Additional Notes:**\n",
    "\n",
    "- The **Date** column helps in analyzing time-based trends and seasonal patterns in stock prices.\n",
    "\n",
    "- The **Open, High, Low, and Close prices** allow for a **detailed evaluation of price movements, volatility, and trading patterns**.\n",
    "\n",
    "- The dataset is **clean, with no missing values or duplicates**, making it ideal for direct analysis.\n",
    "\n",
    "This variable description provides the foundation for conducting **Exploratory Data Analysis (EDA)** and deriving meaningful insights into ***Yes Bank***’s stock performance.\n",
    "\n",
    "---"
   ]
  },
  {
   "cell_type": "markdown",
   "metadata": {
    "id": "u3PMJOP6ngxN"
   },
   "source": [
    "### Check Unique Values for each variable."
   ]
  },
  {
   "cell_type": "code",
   "execution_count": 29,
   "metadata": {
    "id": "zms12Yq5n-jE"
   },
   "outputs": [
    {
     "name": "stdout",
     "output_type": "stream",
     "text": [
      "Unique Values for 'Date' column\n",
      "['Jul-05' 'Aug-05' 'Sep-05' 'Oct-05' 'Nov-05' 'Dec-05' 'Jan-06' 'Feb-06'\n",
      " 'Mar-06' 'Apr-06' 'May-06' 'Jun-06' 'Jul-06' 'Aug-06' 'Sep-06' 'Oct-06'\n",
      " 'Nov-06' 'Dec-06' 'Jan-07' 'Feb-07' 'Mar-07' 'Apr-07' 'May-07' 'Jun-07'\n",
      " 'Jul-07' 'Aug-07' 'Sep-07' 'Oct-07' 'Nov-07' 'Dec-07' 'Jan-08' 'Feb-08'\n",
      " 'Mar-08' 'Apr-08' 'May-08' 'Jun-08' 'Jul-08' 'Aug-08' 'Sep-08' 'Oct-08'\n",
      " 'Nov-08' 'Dec-08' 'Jan-09' 'Feb-09' 'Mar-09' 'Apr-09' 'May-09' 'Jun-09'\n",
      " 'Jul-09' 'Aug-09' 'Sep-09' 'Oct-09' 'Nov-09' 'Dec-09' 'Jan-10' 'Feb-10'\n",
      " 'Mar-10' 'Apr-10' 'May-10' 'Jun-10' 'Jul-10' 'Aug-10' 'Sep-10' 'Oct-10'\n",
      " 'Nov-10' 'Dec-10' 'Jan-11' 'Feb-11' 'Mar-11' 'Apr-11' 'May-11' 'Jun-11'\n",
      " 'Jul-11' 'Aug-11' 'Sep-11' 'Oct-11' 'Nov-11' 'Dec-11' 'Jan-12' 'Feb-12'\n",
      " 'Mar-12' 'Apr-12' 'May-12' 'Jun-12' 'Jul-12' 'Aug-12' 'Sep-12' 'Oct-12'\n",
      " 'Nov-12' 'Dec-12' 'Jan-13' 'Feb-13' 'Mar-13' 'Apr-13' 'May-13' 'Jun-13'\n",
      " 'Jul-13' 'Aug-13' 'Sep-13' 'Oct-13' 'Nov-13' 'Dec-13' 'Jan-14' 'Feb-14'\n",
      " 'Mar-14' 'Apr-14' 'May-14' 'Jun-14' 'Jul-14' 'Aug-14' 'Sep-14' 'Oct-14'\n",
      " 'Nov-14' 'Dec-14' 'Jan-15' 'Feb-15' 'Mar-15' 'Apr-15' 'May-15' 'Jun-15'\n",
      " 'Jul-15' 'Aug-15' 'Sep-15' 'Oct-15' 'Nov-15' 'Dec-15' 'Jan-16' 'Feb-16'\n",
      " 'Mar-16' 'Apr-16' 'May-16' 'Jun-16' 'Jul-16' 'Aug-16' 'Sep-16' 'Oct-16'\n",
      " 'Nov-16' 'Dec-16' 'Jan-17' 'Feb-17' 'Mar-17' 'Apr-17' 'May-17' 'Jun-17'\n",
      " 'Jul-17' 'Aug-17' 'Sep-17' 'Oct-17' 'Nov-17' 'Dec-17' 'Jan-18' 'Feb-18'\n",
      " 'Mar-18' 'Apr-18' 'May-18' 'Jun-18' 'Jul-18' 'Aug-18' 'Sep-18' 'Oct-18'\n",
      " 'Nov-18' 'Dec-18' 'Jan-19' 'Feb-19' 'Mar-19' 'Apr-19' 'May-19' 'Jun-19'\n",
      " 'Jul-19' 'Aug-19' 'Sep-19' 'Oct-19' 'Nov-19' 'Dec-19' 'Jan-20' 'Feb-20'\n",
      " 'Mar-20' 'Apr-20' 'May-20' 'Jun-20' 'Jul-20' 'Aug-20' 'Sep-20' 'Oct-20'\n",
      " 'Nov-20']\n",
      "==================================================\n",
      "Unique Values for 'Open' column\n",
      "[ 13.    12.58  13.48  13.2   13.35  13.49  13.68  15.5   16.2   20.56\n",
      "  19.8   18.2   16.    15.9   18.    18.78  22.8   25.4   27.4   30.2\n",
      "  29.3   27.    30.66  33.89  35.98  37.5   37.4   41.8   44.4   46.4\n",
      "  49.99  50.88  48.9   33.9   34.3   31.22  22.85  25.    26.68  24.6\n",
      "  14.79  12.4   15.28  12.19  10.    10.04  15.94  25.6   29.7   31.98\n",
      "  33.8   41.2   46.58  50.98  53.6   49.    47.8   50.67  56.94  56.7\n",
      "  53.55  59.4   62.8   70.9   72.2   61.8   62.98  53.    51.84  62.\n",
      "  61.26  60.4   63.    62.9   56.    53.8   62.2   57.    47.92  65.9\n",
      "  69.    73.62  70.4   65.45  68.15  73.    66.2   76.4   82.54  89.2\n",
      "  93.2  104.41  94.    85.7  100.99  99.    92.4   66.    49.2   58.\n",
      "  74.    74.4   74.74  61.54  60.52  83.45  88.8  114.8  108.43 107.4\n",
      " 114.6  112.1  137.1  142.08 154.4  172.5  174.8  162.8  170.   177.\n",
      " 169.   165.9  135.61 146.96 151.73 153.   145.   150.4  138.8  172.02\n",
      " 189.8  206.4  221.96 244.   273.3  253.41 255.   235.4  231.98 280.4\n",
      " 290.6  309.6  326.   286.66 293.04 363.   351.   354.6  315.5  307.2\n",
      " 314.   355.   320.7  305.   362.85 348.   340.   369.95 347.2  180.\n",
      " 192.   174.   182.85 197.   234.6  277.   163.3  147.95 109.6   59.5\n",
      "  42.    71.    70.    46.9   39.1   35.2   22.3   27.8   27.75  12.\n",
      "  14.3   13.3   12.41]\n",
      "==================================================\n",
      "Unique Values for 'High' column\n",
      "[ 14.    14.88  14.87  14.47  13.88  14.44  17.16  16.97  20.95  20.8\n",
      "  21.8   18.4   17.2   18.6   18.88  24.2   28.47  29.66  34.16  32.6\n",
      "  31.58  31.99  36.14  36.38  41.04  39.    41.75  47.3   50.98  54.\n",
      "  55.56  53.97  48.9   35.8   36.88  32.22  30.5   28.98  29.8   25.\n",
      "  17.8   16.56  18.34  12.5   11.24  17.51  28.84  31.08  33.16  35.18\n",
      "  41.3   52.34  54.98  55.67  57.58  51.48  52.06  59.48  58.08  59.9\n",
      "  60.94  68.88  71.74  76.    77.6   68.36  63.54  57.69  65.2   68.26\n",
      "  61.68  63.39  68.    63.96  60.08  64.8   63.7   59.8   66.5   74.8\n",
      "  77.88  76.1   70.59  70.6   73.19  74.78  77.69  84.2   89.6   95.\n",
      " 107.   107.8  100.15 101.8  109.43 102.94 100.4   67.81  78.94  76.44\n",
      "  77.27  83.    76.35  62.7   83.36  94.98 117.6  117.57 114.46 118.69\n",
      " 126.85 137.8  143.91 155.   179.   173.88 182.   172.8  176.96 179.4\n",
      " 175.58 169.19 155.5  155.94 157.96 154.52 149.9  157.85 175.12 190.44\n",
      " 209.   223.   247.18 275.   290.   265.5  262.72 245.   284.31 294.19\n",
      " 311.57 330.58 330.3  306.34 372.   368.52 383.25 375.75 329.8  319.\n",
      " 366.   366.5  325.8  368.75 364.4  350.1  393.35 404.   350.   268.45\n",
      " 231.4  194.3  236.3  236.9  281.3  285.9  178.05 153.8  110.6   92.4\n",
      "  72.55  76.65  75.35  70.5   48.5   40.7   87.95  30.45  31.6   31.95\n",
      "  28.3   15.34  14.01  14.9 ]\n",
      "==================================================\n",
      "Unique Values for 'Low' column\n",
      "[ 11.25  12.55  12.27  12.4   12.88  13.    13.58  15.4   16.02  18.02\n",
      "  15.8   13.4   13.82  15.7   16.8   18.5   21.4   24.4   27.    26.8\n",
      "  23.31  26.2   29.11  30.4   35.02  30.2   35.3   33.6   40.02  45.\n",
      "  30.24  44.4   24.11  28.51  30.03  22.62  20.4   24.62  21.7   11.01\n",
      "  11.13  11.48   9.9    8.16   9.94  14.76  23.    24.83  29.    32.\n",
      "  36.8   42.84  48.6   46.42  44.6   47.3   48.8   50.66  52.6   53.02\n",
      "  59.01  62.51  68.21  58.    55.44  49.39  46.71  50.8   60.5   54.5\n",
      "  54.8   61.36  50.51  51.2   48.1   52.04  47.4   46.11  63.6   66.2\n",
      "  69.11  58.85  62.14  67.57  65.27  64.46  75.6   82.22  88.01  93.2\n",
      "  93.4   83.42  83.43  97.2   87.15  57.71  43.22  44.8   56.08  64.65\n",
      "  71.63  60.8   58.42  60.34  80.8   86.98 101.62 100.44 103.31 107.18\n",
      " 109.2  132.44 134.   150.47 156.1  156.8  154.53 157.8  158.9  156.45\n",
      " 118.   127.   141.73 144.03 133.71 126.45 132.74 138.35 165.33 181.28\n",
      " 201.14 221.35 240.68 231.2  245.8  219.1  218.25 226.3  275.61 283.6\n",
      " 300.2  275.15 280.21 290.78 337.37 345.5  299.   296.   300.65 307.35\n",
      " 304.65 285.1  303.3  325.7  327.35 332.45 338.   166.15 168.6  147.\n",
      " 160.2  181.15 167.65 228.8  165.3  133.05  98.75  81.75  53.15  40.95\n",
      "  29.05  59.95  40.7   36.55   5.55  20.3   25.2   25.55  11.1   11.85\n",
      "  12.75  12.11  12.21]\n",
      "==================================================\n",
      "Unique Values for 'Close' column\n",
      "[ 12.46  13.42  13.3   12.99  13.41  13.71  15.33  16.12  20.08  19.49\n",
      "  18.03  15.62  16.16  17.84  18.46  22.78  25.32  26.97  30.16  28.63\n",
      "  28.14  30.31  33.51  35.98  37.93  36.99  41.36  43.48  46.18  49.81\n",
      "  50.54  49.42  33.75  34.06  31.13  22.85  25.45  26.83  24.13  13.58\n",
      "  12.26  15.03  12.24  10.26   9.98  15.45  25.12  29.68  31.93  33.45\n",
      "  40.99  47.31  50.57  53.41  49.84  47.32  50.97  57.1   57.57  53.83\n",
      "  58.99  62.22  70.3   71.86  61.21  62.54  52.59  51.29  61.98  61.02\n",
      "  60.07  62.38  62.13  55.61  54.5   62.9   54.49  47.72  65.99  69.14\n",
      "  73.46  70.07  66.02  67.83  72.85  65.97  76.44  82.29  88.48  92.84\n",
      " 104.41  94.5   85.71 100.28  97.49  92.2   64.76  48.65  57.5   73.76\n",
      "  73.74  74.02  61.59  60.95  82.7   88.14 113.89 108.38 108.21 114.33\n",
      " 111.7  136.83 142.08 154.57 172.5  172.55 163.31 167.96 176.52 168.6\n",
      " 165.74 137.9  145.92 151.82 153.3  145.23 149.38 137.67 172.91 188.73\n",
      " 206.39 221.3  243.44 272.56 250.85 253.52 234.28 231.26 279.1  290.56\n",
      " 309.82 326.14 286.38 292.37 361.96 351.15 350.   314.35 306.8  315.05\n",
      " 354.45 322.25 304.9  362.05 346.2  339.6  367.9  343.4  183.45 188.05\n",
      " 169.65 181.75 194.3  231.2  275.05 168.   147.95 108.7   91.3   59.5\n",
      "  41.45  70.45  68.3   46.95  39.2   34.55  22.45  27.95  26.85  25.6\n",
      "  11.95  14.37  13.15  12.42  14.67]\n",
      "==================================================\n"
     ]
    }
   ],
   "source": [
    "# Check Unique Values for each variable.\n",
    "\n",
    "for column in df.columns:\n",
    "    print(f\"Unique Values for '{column}' column\")\n",
    "    print(df[column].unique())\n",
    "    print(\"=\"*50)"
   ]
  },
  {
   "cell_type": "markdown",
   "metadata": {
    "id": "dauF4eBmngu3"
   },
   "source": [
    "## 3. ***Data Wrangling***"
   ]
  },
  {
   "cell_type": "markdown",
   "metadata": {
    "id": "bKJF3rekwFvQ"
   },
   "source": [
    "### Data Wrangling Code"
   ]
  },
  {
   "cell_type": "code",
   "execution_count": 30,
   "metadata": {
    "id": "BmOaQvGiWXml"
   },
   "outputs": [
    {
     "data": {
      "text/plain": [
       "Date     0\n",
       "Open     0\n",
       "High     0\n",
       "Low      0\n",
       "Close    0\n",
       "dtype: int64"
      ]
     },
     "execution_count": 30,
     "metadata": {},
     "output_type": "execute_result"
    }
   ],
   "source": [
    "# Checking for missing values\n",
    "df.isnull().sum()"
   ]
  },
  {
   "cell_type": "code",
   "execution_count": 32,
   "metadata": {
    "id": "E84LOGL_WXml"
   },
   "outputs": [
    {
     "data": {
      "text/plain": [
       "0"
      ]
     },
     "execution_count": 32,
     "metadata": {},
     "output_type": "execute_result"
    }
   ],
   "source": [
    "# Checking for duplicate Values\n",
    "int(df.duplicated().sum())"
   ]
  },
  {
   "cell_type": "code",
   "execution_count": 33,
   "metadata": {
    "id": "wk-9a2fpoLcV"
   },
   "outputs": [],
   "source": [
    "# Converting the Date column to datetime format\n",
    "df['Date'] = pd.to_datetime(df['Date'], format='%b-%y')"
   ]
  },
  {
   "cell_type": "code",
   "execution_count": 34,
   "metadata": {
    "id": "K9S5TWKpWXml"
   },
   "outputs": [],
   "source": [
    "# Extracting Year from Date column\n",
    "df['Year'] = df['Date'].dt.year"
   ]
  },
  {
   "cell_type": "code",
   "execution_count": 35,
   "metadata": {
    "id": "ep0qQpRzWXmm"
   },
   "outputs": [],
   "source": [
    "# Extracting Month from Date column\n",
    "df['Month'] = df['Date'].dt.month"
   ]
  },
  {
   "cell_type": "code",
   "execution_count": 36,
   "metadata": {
    "id": "eCzPkeHWWXmm"
   },
   "outputs": [],
   "source": [
    "# Sorting the data by date column\n",
    "df = df.sort_values(by='Date')\n",
    "\n",
    "# Resetting the index\n",
    "df = df.reset_index(drop=True)"
   ]
  },
  {
   "cell_type": "code",
   "execution_count": 37,
   "metadata": {
    "id": "fE_T6-ajWXmm"
   },
   "outputs": [
    {
     "data": {
      "text/html": [
       "<div>\n",
       "<style scoped>\n",
       "    .dataframe tbody tr th:only-of-type {\n",
       "        vertical-align: middle;\n",
       "    }\n",
       "\n",
       "    .dataframe tbody tr th {\n",
       "        vertical-align: top;\n",
       "    }\n",
       "\n",
       "    .dataframe thead th {\n",
       "        text-align: right;\n",
       "    }\n",
       "</style>\n",
       "<table border=\"1\" class=\"dataframe\">\n",
       "  <thead>\n",
       "    <tr style=\"text-align: right;\">\n",
       "      <th></th>\n",
       "      <th>Date</th>\n",
       "      <th>Open</th>\n",
       "      <th>High</th>\n",
       "      <th>Low</th>\n",
       "      <th>Close</th>\n",
       "      <th>Year</th>\n",
       "      <th>Month</th>\n",
       "    </tr>\n",
       "  </thead>\n",
       "  <tbody>\n",
       "    <tr>\n",
       "      <th>0</th>\n",
       "      <td>2005-07-01</td>\n",
       "      <td>13.00</td>\n",
       "      <td>14.00</td>\n",
       "      <td>11.25</td>\n",
       "      <td>12.46</td>\n",
       "      <td>2005</td>\n",
       "      <td>7</td>\n",
       "    </tr>\n",
       "    <tr>\n",
       "      <th>1</th>\n",
       "      <td>2005-08-01</td>\n",
       "      <td>12.58</td>\n",
       "      <td>14.88</td>\n",
       "      <td>12.55</td>\n",
       "      <td>13.42</td>\n",
       "      <td>2005</td>\n",
       "      <td>8</td>\n",
       "    </tr>\n",
       "    <tr>\n",
       "      <th>2</th>\n",
       "      <td>2005-09-01</td>\n",
       "      <td>13.48</td>\n",
       "      <td>14.87</td>\n",
       "      <td>12.27</td>\n",
       "      <td>13.30</td>\n",
       "      <td>2005</td>\n",
       "      <td>9</td>\n",
       "    </tr>\n",
       "    <tr>\n",
       "      <th>3</th>\n",
       "      <td>2005-10-01</td>\n",
       "      <td>13.20</td>\n",
       "      <td>14.47</td>\n",
       "      <td>12.40</td>\n",
       "      <td>12.99</td>\n",
       "      <td>2005</td>\n",
       "      <td>10</td>\n",
       "    </tr>\n",
       "    <tr>\n",
       "      <th>4</th>\n",
       "      <td>2005-11-01</td>\n",
       "      <td>13.35</td>\n",
       "      <td>13.88</td>\n",
       "      <td>12.88</td>\n",
       "      <td>13.41</td>\n",
       "      <td>2005</td>\n",
       "      <td>11</td>\n",
       "    </tr>\n",
       "  </tbody>\n",
       "</table>\n",
       "</div>"
      ],
      "text/plain": [
       "        Date   Open   High    Low  Close  Year  Month\n",
       "0 2005-07-01  13.00  14.00  11.25  12.46  2005      7\n",
       "1 2005-08-01  12.58  14.88  12.55  13.42  2005      8\n",
       "2 2005-09-01  13.48  14.87  12.27  13.30  2005      9\n",
       "3 2005-10-01  13.20  14.47  12.40  12.99  2005     10\n",
       "4 2005-11-01  13.35  13.88  12.88  13.41  2005     11"
      ]
     },
     "execution_count": 37,
     "metadata": {},
     "output_type": "execute_result"
    }
   ],
   "source": [
    "df.head()"
   ]
  },
  {
   "cell_type": "code",
   "execution_count": 38,
   "metadata": {
    "id": "uqwK3TshWXmm"
   },
   "outputs": [
    {
     "name": "stdout",
     "output_type": "stream",
     "text": [
      "<class 'pandas.core.frame.DataFrame'>\n",
      "RangeIndex: 185 entries, 0 to 184\n",
      "Data columns (total 7 columns):\n",
      " #   Column  Non-Null Count  Dtype         \n",
      "---  ------  --------------  -----         \n",
      " 0   Date    185 non-null    datetime64[ns]\n",
      " 1   Open    185 non-null    float64       \n",
      " 2   High    185 non-null    float64       \n",
      " 3   Low     185 non-null    float64       \n",
      " 4   Close   185 non-null    float64       \n",
      " 5   Year    185 non-null    int32         \n",
      " 6   Month   185 non-null    int32         \n",
      "dtypes: datetime64[ns](1), float64(4), int32(2)\n",
      "memory usage: 8.8 KB\n"
     ]
    }
   ],
   "source": [
    "df.info()"
   ]
  },
  {
   "cell_type": "code",
   "execution_count": 39,
   "metadata": {
    "id": "pb0mnBdsWXmm"
   },
   "outputs": [
    {
     "name": "stdout",
     "output_type": "stream",
     "text": [
      "Cleaned Dataset Saved Successully\n"
     ]
    }
   ],
   "source": [
    "df.to_csv(\"cleaned_dataset.csv\", index=False)\n",
    "\n",
    "print(\"Cleaned Dataset Saved Successully\")"
   ]
  },
  {
   "cell_type": "markdown",
   "metadata": {
    "id": "MSa1f5Uengrz"
   },
   "source": [
    "### What manipulations have been done, and what insights have been found?"
   ]
  },
  {
   "cell_type": "markdown",
   "metadata": {
    "id": "LbyXE7I1olp8"
   },
   "source": [
    "**Manipulations Done on the Dataset:**\n",
    "\n",
    "1. **Checking for missing values –** No missing values were found in the dataset.\n",
    "\n",
    "2. **Checking for duplicate rows –** No duplicate records were found, ensuring data integrity.\n",
    "\n",
    "3. **Converting the `Date` column –** The Date column was originally in **object format** and was converted into a proper **datetime format** for time-series analysis.\n",
    "\n",
    "4. **Extracted `Year` and `Month` from the `Date` column -** The `Date` column is correctly formatted as datetime, allowing for the extraction of the year and month to enhance analysis.\n",
    "\n",
    "5. **Sorting data by `Date` –** The dataset was arranged in chronological order to analyze historical stock price trends effectively.\n",
    "\n",
    "6. **Resetting the index –** After sorting, the index was reset for better accessibility.\n",
    "\n",
    "\n",
    "---\n",
    "\n",
    "\n",
    "**Insights Found from the Dataset:**\n",
    "\n",
    "1. **Stock Price Volatility:**\n",
    "\n",
    "    - ***Yes Bank***’s stock has experienced significant fluctuations, with opening prices ranging from **₹10 to ₹369.95** and closing prices from **₹9.98 to ₹367.90**.\n",
    "\n",
    "    - The high standard deviation across stock prices indicates strong volatility.\n",
    "\n",
    "\n",
    "2. **Historical Price Trends:**\n",
    "\n",
    "    - The stock price saw periods of **steady growth, peaks,** and **declines,** indicating phases of bullish and bearish trends.\n",
    "\n",
    "    - The highest recorded price was **₹404**, while the lowest was **₹5.55**, showing a vast range of market performance.\n",
    "\n",
    "\n",
    "3. **Consistency in Data:**\n",
    "\n",
    "    - There were **no missing** or **duplicate values**, ensuring that the dataset was well-maintained and reliable for further analysis.\n",
    "\n",
    "\n",
    "4. **Potential Market Impact Events:**\n",
    "\n",
    "    - The steep increase and subsequent decline in stock prices suggest external influences such as **market trends, financial instability,** or **regulatory changes** that affected ***Yes Bank***'s performance.\n",
    "\n",
    "\n",
    "These insights provide a foundation for deeper analysis, such as **trend forecasting** and **correlation with financial events**."
   ]
  },
  {
   "cell_type": "markdown",
   "metadata": {
    "id": "GF8Ens_Soomf"
   },
   "source": [
    "## ***4. Data Vizualization, Storytelling & Experimenting with charts : Understand the relationships between variables***"
   ]
  },
  {
   "cell_type": "markdown",
   "metadata": {
    "id": "0wOQAZs5pc--"
   },
   "source": [
    "#### Chart 1 : Line Plot of Closing Prices Over Time"
   ]
  },
  {
   "cell_type": "code",
   "execution_count": null,
   "metadata": {
    "id": "_oqo13ETWXmn"
   },
   "outputs": [],
   "source": [
    "# Setting the Figure Size\n",
    "plt.figure(figsize=(12, 6))\n",
    "\n",
    "# Creating line plot to visualize closing prices over time\n",
    "plt.plot(df['Date'], df['Close'], label='Close Price')\n",
    "\n",
    "# Setting title and labels\n",
    "plt.title('Chart 1 : Yes Bank Closing Prices Over Time')\n",
    "plt.xlabel('Date')\n",
    "plt.ylabel('Close Price')\n",
    "plt.legend()\n",
    "plt.grid(True)\n",
    "\n",
    "# Displaying the chart\n",
    "plt.show()"
   ]
  },
  {
   "cell_type": "markdown",
   "metadata": {
    "id": "K5QZ13OEpz2H"
   },
   "source": [
    "#### 1. Why did I choose this particular chart?"
   ]
  },
  {
   "cell_type": "markdown",
   "metadata": {
    "id": "XESiWehPqBRc"
   },
   "source": [
    "📊 **Line Plot (Closing Prices Over Time)**\n",
    "\n",
    "- **Why?**\n",
    "\n",
    "    - Line plots are ideal for visualizing time-series data because they show how a variable (e.g., closing price) changes over time.\n",
    "\n",
    "    - They help identify trends, patterns, and anomalies (e.g., sudden spikes or drops in stock prices).\n",
    "\n",
    "- **What They Show:**\n",
    "\n",
    "    - Trends in closing, opening, high, and low prices over the years.\n",
    "\n",
    "    - For example, a line plot of closing prices can reveal long-term growth, decline, or volatility in the stock.\n",
    "\n",
    "---"
   ]
  },
  {
   "cell_type": "markdown",
   "metadata": {
    "id": "lQ7QKXXCp7Bj"
   },
   "source": [
    "#### 2. What are the insights found from the chart?"
   ]
  },
  {
   "cell_type": "markdown",
   "metadata": {
    "id": "C_j1G7yiqdRP"
   },
   "source": [
    "👉 The chart displays **Yes Bank's closing prices over time**. Here are the key insights:\n",
    "\n",
    "1. **Steady Growth (2005-2015):** The stock price showed a gradual and consistent increase, indicating a strong performance and investor confidence in the bank.\n",
    "\n",
    "\n",
    "2. **Rapid Surge (2016-2018):** The price saw a sharp rise, peaking above **350**, suggesting strong growth, possibly due to favorable financial performance, expansion, or market sentiment.\n",
    "\n",
    "\n",
    "3. **Sharp Decline (2018-2020):** After reaching its peak, the stock price dropped dramatically, indicating financial instability, governance issues, or external market factors affecting investor confidence.\n",
    "\n",
    "\n",
    "4. **Post-2020 Stabilization at Low Levels:** After the steep fall, the stock price seems to have stabilized at a much lower level, implying that recovery has been slow or investor sentiment remains weak.\n",
    "\n",
    "\n",
    "This trend suggests that ***Yes Bank*** experienced significant volatility, with a major boom followed by a steep decline, likely due to internal banking issues, regulatory interventions, or macroeconomic factors.\n",
    "\n",
    "---"
   ]
  },
  {
   "cell_type": "markdown",
   "metadata": {
    "id": "448CDAPjqfQr"
   },
   "source": [
    "#### 3. Will the gained insights help creating a positive business impact?\n",
    "Are there any insights that lead to negative growth? Justify with specific reason."
   ]
  },
  {
   "cell_type": "markdown",
   "metadata": {
    "id": "3cspy4FjqxJW"
   },
   "source": [
    "👍 **Positive Business Impact:**\n",
    "\n",
    "1. **Strong Growth Phase (2005-2018):** The chart shows a long period of consistent growth, indicating that ***Yes Bank*** was expanding, gaining market trust, and performing well financially.\n",
    "\n",
    "\n",
    "2. **Investor Confidence (2016-2018 Peak):** The sharp rise in stock price suggests high investor confidence, strong earnings, and potential business expansions.\n",
    "\n",
    "\n",
    "3. **Potential High Returns:** Investors who entered the stock early (before 2015) likely saw significant profits before the decline, showing the bank’s capacity for value creation.\n",
    "\n",
    "---\n",
    "\n",
    "👎 **Negative Growth & Business Impact:**\n",
    "\n",
    "1. **Sudden Decline (2018-2020):** The steep drop in stock price suggests major financial instability, possibly due to governance issues, bad loans (NPAs), or regulatory concerns.\n",
    "\n",
    "\n",
    "2. **Loss of Investor Trust:** The sharp crash in price indicates a loss of market confidence, which could lead to difficulty in raising capital or attracting new investments.\n",
    "\n",
    "\n",
    "3. **Liquidity & Operational Challenges:** Such a steep fall can affect business operations, leading to reduced lending ability, customer withdrawals, or regulatory intervention (like RBI actions).\n",
    "\n",
    "\n",
    "4. **Stagnation Post-2020:** The price stabilizing at a lower level suggests that recovery has been slow, meaning the bank might still be facing operational challenges or investor skepticism.\n",
    "\n",
    "\n",
    "\n",
    "The chart reflects a classic business cycle of rapid growth, peak performance, crisis, and attempted recovery.\n",
    "\n",
    "---"
   ]
  },
  {
   "cell_type": "markdown",
   "metadata": {
    "id": "KSlN3yHqYklG"
   },
   "source": [
    "#### Chart 2 : Line Plot of Opening Prices Over Time"
   ]
  },
  {
   "cell_type": "code",
   "execution_count": null,
   "metadata": {
    "id": "R4YgtaqtYklH"
   },
   "outputs": [],
   "source": [
    "# Setting the Figure Size\n",
    "plt.figure(figsize=(12, 6))\n",
    "\n",
    "# Creating line plot to visualize opening prices over time\n",
    "plt.plot(df['Date'], df['Open'], label='Open Price', color='orange')\n",
    "\n",
    "# Setting title and labels\n",
    "plt.title('Chart 2 : Yes Bank Opening Prices Over Time')\n",
    "plt.xlabel('Date')\n",
    "plt.ylabel('Open Price')\n",
    "plt.legend()\n",
    "plt.grid(True)\n",
    "\n",
    "# Displaying the chart\n",
    "plt.show()"
   ]
  },
  {
   "cell_type": "markdown",
   "metadata": {
    "id": "t6dVpIINYklI"
   },
   "source": [
    "#### 1. Why did I choose this particular chart?"
   ]
  },
  {
   "cell_type": "markdown",
   "metadata": {
    "id": "5aaW0BYyYklI"
   },
   "source": [
    "📊 **Line Plot (Opening Prices Over Time)**\n",
    "\n",
    "- **Why?**\n",
    "\n",
    "    - Line plots are ideal for visualizing time-series data because they show how a variable (e.g., opening price) changes over time.\n",
    "\n",
    "    - They help identify trends, patterns, and anomalies (e.g., sudden spikes or drops in stock prices).\n",
    "\n",
    "- **What They Show:**\n",
    "\n",
    "    - Trends in closing, opening, high, and low prices over the years.\n",
    "\n",
    "    - For example, a line plot of opening prices can reveal long-term growth, decline, or volatility in the stock.\n",
    "\n",
    "---"
   ]
  },
  {
   "cell_type": "markdown",
   "metadata": {
    "id": "ijmpgYnKYklI"
   },
   "source": [
    "#### 2. What are the insights found from the chart?"
   ]
  },
  {
   "cell_type": "markdown",
   "metadata": {
    "id": "PSx9atu2YklI"
   },
   "source": [
    "👉 The chart shows **Yes Bank's opening prices over time** and is very similar to the closing price chart. Here are the key insights:\n",
    "\n",
    "\n",
    "1. **Steady Growth (2005-2015):** The opening price shows a consistent upward trend, indicating steady business growth and increasing investor confidence.\n",
    "\n",
    "\n",
    "2. **Sharp Surge (2016-2018):** The stock price experienced a strong upward movement, reaching its peak above **350**, likely due to strong financial performance, investor optimism, and expansion efforts.\n",
    "\n",
    "\n",
    "3. **Sudden Decline (2018-2020):**\n",
    "\n",
    "    - After peaking, the stock price dropped drastically. This suggests financial instability, governance issues, or external factors negatively impacting the bank.\n",
    "\n",
    "    - The decline closely mirrors the closing price trends, indicating high volatility.\n",
    "\n",
    "\n",
    "4. **Post-2020 Stabilization at Low Levels:** After the steep decline, the stock price remains low, suggesting slow recovery and weak investor confidence.\n",
    "\n",
    "---\n",
    "\n",
    "**Comparison with Closing Prices Chart (Chart 1):**\n",
    "\n",
    "- The opening and closing prices follow a similar trend, confirming high volatility.\n",
    "\n",
    "- If there are large gaps between opening and closing prices during certain periods, it may indicate intraday market fluctuations, panic selling, or speculation-driven trading.\n",
    "\n",
    "\n",
    "---\n",
    "\n",
    "\n",
    "**Overall Insights:**\n",
    "\n",
    "- ***Yes Bank*** experienced significant growth, attracting investors.\n",
    "\n",
    "- The sharp fall suggests internal financial distress (possibly bad loans, regulatory concerns, or governance issues).\n",
    "\n",
    "- Recovery post-2020 is slow, showing that investor confidence hasn't fully returned.\n",
    "\n",
    "---"
   ]
  },
  {
   "cell_type": "markdown",
   "metadata": {
    "id": "-JiQyfWJYklI"
   },
   "source": [
    "#### 3. Will the gained insights help creating a positive business impact?\n",
    "Are there any insights that lead to negative growth? Justify with specific reason."
   ]
  },
  {
   "cell_type": "markdown",
   "metadata": {
    "id": "BcBbebzrYklV"
   },
   "source": [
    "👍 **Positive Business Impact:**\n",
    "\n",
    "1. **Steady Growth (2005-2015):** The consistent rise in opening prices indicates strong business expansion, increasing market trust, and a growing customer base.\n",
    "\n",
    "\n",
    "2. **Peak Performance (2016-2018):** The sharp surge in stock price reflects high investor confidence, possibly driven by strong financial results, effective management, and strategic growth initiatives.\n",
    "\n",
    "\n",
    "3. **Strong Market Position:** At its peak, ***Yes Bank*** was one of the top-performing private banks in India, which likely helped in attracting more customers, investments, and business opportunities.\n",
    "\n",
    "\n",
    "4. **Liquidity and Expansion:** High stock prices generally allow companies to raise capital easily, facilitating further expansion, lending capacity, and technological advancements.\n",
    "\n",
    "\n",
    "---\n",
    "\n",
    "\n",
    "👎 **Negative Growth & Business Impact:**\n",
    "\n",
    "1. **Sharp Decline (2018-2020):** The steep drop in opening prices signals a major loss of investor confidence, possibly due to governance issues, rising bad loans (NPAs), or regulatory concerns.\n",
    "\n",
    "\n",
    "2. **Financial Instability:** The fall in stock prices indicates underlying financial distress, which could affect lending, liquidity, and overall operations.\n",
    "\n",
    "\n",
    "3. **Investor and Customer Distrust:** A declining stock price can lead to mass withdrawals, loss of corporate clients, and difficulty in attracting new investors.\n",
    "\n",
    "\n",
    "4. **Regulatory Interventions:** Such volatility often leads to intervention by regulators (e.g., RBI), which can restrict the bank’s decision-making power and limit its ability to operate freely.\n",
    "\n",
    "\n",
    "5. **Stock Price Stagnation Post-2020:** The continued low price levels indicate that recovery has been slow, and the bank has struggled to regain its previous market position.\n",
    "\n",
    "\n",
    "---\n",
    "\n",
    "\n",
    "**Final Takeaway:**\n",
    "\n",
    "***Yes Bank*** saw a strong rise followed by a dramatic fall, reflecting a business cycle of growth, peak performance, crisis, and attempted recovery. While it benefited from high investor confidence and expansion in the past, its challenges highlight the importance of strong governance, risk management, and financial stability for long-term success.\n",
    "\n",
    "---"
   ]
  },
  {
   "cell_type": "markdown",
   "metadata": {
    "id": "EM7whBJCYoAo"
   },
   "source": [
    "#### Chart 3 : Line Plot of High Prices Over Time"
   ]
  },
  {
   "cell_type": "code",
   "execution_count": null,
   "metadata": {
    "id": "t6GMdE67YoAp"
   },
   "outputs": [],
   "source": [
    "# Setting the Figure Size\n",
    "plt.figure(figsize=(12, 6))\n",
    "\n",
    "# Creating line plot to visualize opening prices over time\n",
    "plt.plot(df['Date'], df['High'], label='High Price', color='green')\n",
    "\n",
    "# Setting title and labels\n",
    "plt.title('Chart 3 : Yes Bank High Prices Over Time')\n",
    "plt.xlabel('Date')\n",
    "plt.ylabel('High Price')\n",
    "plt.legend()\n",
    "plt.grid(True)\n",
    "\n",
    "# Displaying the chart\n",
    "plt.show()"
   ]
  },
  {
   "cell_type": "markdown",
   "metadata": {
    "id": "fge-S5ZAYoAp"
   },
   "source": [
    "#### 1. Why did I choose this particular chart?"
   ]
  },
  {
   "cell_type": "markdown",
   "metadata": {
    "id": "5dBItgRVYoAp"
   },
   "source": [
    "📊 **Line Plot (High Prices Over Time)**\n",
    "\n",
    "- **Why?**\n",
    "\n",
    "    - Line plots are ideal for visualizing time-series data because they show how a variable (e.g., High price) changes over time.\n",
    "\n",
    "    - They help identify trends, patterns, and anomalies (e.g., sudden spikes or drops in stock prices).\n",
    "\n",
    "- **What They Show:**\n",
    "\n",
    "    - Trends in closing, opening, high, and low prices over the years.\n",
    "\n",
    "    - For example, a line plot of High prices can reveal long-term growth, decline, or volatility in the stock.\n",
    "\n",
    "---"
   ]
  },
  {
   "cell_type": "markdown",
   "metadata": {
    "id": "85gYPyotYoAp"
   },
   "source": [
    "#### 2. What are the insights found from the chart?"
   ]
  },
  {
   "cell_type": "markdown",
   "metadata": {
    "id": "4jstXR6OYoAp"
   },
   "source": [
    "👉 The chart represents **Yes Bank's high prices over time**, which indicates the highest stock price reached during each trading period. Here are the key insights:\n",
    "\n",
    "1. **Gradual Growth (2005-2015):**\n",
    "\n",
    "    - The stock price shows a steady upward trend, indicating consistent business growth and positive market sentiment.\n",
    "\n",
    "\n",
    "\n",
    "2. **Sharp Surge (2016-2018):**\n",
    "\n",
    "    - The high price crossed **400**, suggesting strong investor confidence and potential peak business performance.\n",
    "\n",
    "    - This was likely driven by profitability, expansion, and positive financial news.\n",
    "\n",
    "\n",
    "\n",
    "3. **Sudden Decline (2018-2020):**\n",
    "\n",
    "    - The stock price dropped sharply after reaching its peak, indicating financial instability, governance issues, or regulatory actions.\n",
    "\n",
    "    - High volatility is visible, with sharp rebounds and further declines, suggesting market uncertainty.\n",
    "\n",
    "\n",
    "\n",
    "4. **Post-2020 Stabilization at Low Levels:**\n",
    "\n",
    "    - After the sharp fall, the high price remains consistently low, indicating slow recovery and lack of strong upward momentum.\n",
    "\n",
    "\n",
    "---\n",
    "\n",
    "\n",
    "**Comparison with Other Price Charts (Chart 1 and Chart 2):**\n",
    "\n",
    "- The high price trend follows a similar pattern to opening and closing prices, confirming overall market trends.\n",
    "\n",
    "- Larger gaps between high and closing prices during the decline period (2018-2020) indicate intraday volatility, panic selling, or speculative trading.\n",
    "\n",
    "\n",
    "---\n",
    "\n",
    "\n",
    "**Key Takeaways:**\n",
    "\n",
    "- ***Yes Bank*** experienced rapid growth, reaching its peak before a drastic fall.\n",
    "\n",
    "- The decline suggests financial distress, regulatory interventions, or loss of investor trust.\n",
    "\n",
    "- The post-2020 stagnation shows the difficulty in regaining past market confidence.\n",
    "\n",
    "---"
   ]
  },
  {
   "cell_type": "markdown",
   "metadata": {
    "id": "RoGjAbkUYoAp"
   },
   "source": [
    "#### 3. Will the gained insights help creating a positive business impact?\n",
    "Are there any insights that lead to negative growth? Justify with specific reason."
   ]
  },
  {
   "cell_type": "markdown",
   "metadata": {
    "id": "zfJ8IqMcYoAp"
   },
   "source": [
    "👍 **Positive Business Impact:**\n",
    "\n",
    "1. **Strong Growth Phase (2005-2015):** The gradual rise in high prices indicates steady expansion, strong financial performance, and increasing market confidence in ***Yes Bank***.\n",
    "\n",
    "\n",
    "2. **Peak Performance (2016-2018):** The stock’s high price reaching above **400** suggests the bank was at its peak, possibly due to strong earnings, expansion strategies, and investor optimism.\n",
    "\n",
    "\n",
    "3. **High Investor Interest:** The high price trend shows that the stock had a strong trading demand, meaning the market saw ***Yes Bank*** as a high-growth investment opportunity.\n",
    "\n",
    "\n",
    "4. **Opportunities for Capital Raising:** A high stock price allows a company to raise funds more easily through stock sales, bonds, or investments, helping with expansion and operational improvements.\n",
    "\n",
    "\n",
    "---\n",
    "\n",
    "\n",
    "👎 **Negative Growth & Business Impact:**\n",
    "\n",
    "1. **Drastic Decline (2018-2020):** The sharp fall in high prices suggests a major financial crisis, likely due to rising bad loans (NPAs), governance issues, or regulatory actions.\n",
    "\n",
    "\n",
    "2. **Loss of Market Trust:** The decline indicates a loss of investor confidence, making it difficult for the bank to attract new capital and investments.\n",
    "\n",
    "\n",
    "3. **High Volatility & Uncertainty:** The fluctuations during the decline show that the stock faced panic selling, speculation, and regulatory scrutiny, leading to unpredictable price swings.\n",
    "\n",
    "\n",
    "4. **Long-Term Low Prices Post-2020:** The continued low price levels suggest that the bank is struggling to recover, indicating weak business performance and difficulty in regaining investor trust.\n",
    "\n",
    "\n",
    "5. **Liquidity & Operational Challenges:** A steep fall in stock price often reduces borrowing capacity, affecting lending operations and overall business sustainability.\n",
    "\n",
    "\n",
    "---\n",
    "\n",
    "\n",
    "**Final Takeaway:**\n",
    "\n",
    "***Yes Bank***’s high price trends reflect a classic rise-and-fall cycle: rapid growth, peak success, crisis, and a challenging recovery. While it benefited from strong investor confidence and expansion opportunities earlier, the steep decline highlights the importance of risk management, financial stability, and corporate governance in maintaining long-term business success.\n",
    "\n",
    "---"
   ]
  },
  {
   "cell_type": "markdown",
   "metadata": {
    "id": "4Of9eVA-YrdM"
   },
   "source": [
    "#### Chart 4 : Line Plot of Low Prices Over Time"
   ]
  },
  {
   "cell_type": "code",
   "execution_count": null,
   "metadata": {
    "id": "irlUoxc8YrdO"
   },
   "outputs": [],
   "source": [
    "# Setting the Figure Size\n",
    "plt.figure(figsize=(12, 6))\n",
    "\n",
    "# Creating line plot to visualize opening prices over time\n",
    "plt.plot(df['Date'], df['Low'], label='Low Price', color='red')\n",
    "\n",
    "# Setting title and labels\n",
    "plt.title('Chart 4 : Yes Bank Low Prices Over Time')\n",
    "plt.xlabel('Date')\n",
    "plt.ylabel('Low Price')\n",
    "plt.legend()\n",
    "plt.grid(True)\n",
    "\n",
    "# Displaying the chart\n",
    "plt.show()"
   ]
  },
  {
   "cell_type": "markdown",
   "metadata": {
    "id": "iky9q4vBYrdO"
   },
   "source": [
    "#### 1. Why did I choose this particular chart?"
   ]
  },
  {
   "cell_type": "markdown",
   "metadata": {
    "id": "aJRCwT6DYrdO"
   },
   "source": [
    "📊 **Line Plot (Low Prices Over Time)**\n",
    "\n",
    "- **Why?**\n",
    "\n",
    "    - Line plots are ideal for visualizing time-series data because they show how a variable (e.g., Low price) changes over time.\n",
    "\n",
    "    - They help identify trends, patterns, and anomalies (e.g., sudden spikes or drops in stock prices).\n",
    "\n",
    "- **What They Show:**\n",
    "\n",
    "    - Trends in closing, opening, high, and low prices over the years.\n",
    "\n",
    "    - For example, a line plot of High prices can reveal long-term growth, decline, or volatility in the stock.\n",
    "\n",
    "---"
   ]
  },
  {
   "cell_type": "markdown",
   "metadata": {
    "id": "F6T5p64dYrdO"
   },
   "source": [
    "#### 2. What are the insights found from the chart?"
   ]
  },
  {
   "cell_type": "markdown",
   "metadata": {
    "id": "Xx8WAJvtYrdO"
   },
   "source": [
    "👉 The chart represents **Yes Bank's low prices over time**, showing the lowest price reached during each trading period. Here are the key insights:\n",
    "\n",
    "1. **Steady Growth (2005-2015):**\n",
    "\n",
    "    - The low price gradually increased, indicating stable growth and strong investor confidence.\n",
    "\n",
    "    - The stock price remained resilient without major downward trends, reflecting consistent business performance.\n",
    "\n",
    "\n",
    "\n",
    "2. **Sharp Surge (2016-2018):**\n",
    "\n",
    "    - The low price increased significantly, suggesting that even the worst trading sessions had strong price floors, reinforcing positive market sentiment.\n",
    "\n",
    "    - This phase likely represents strong financial performance, investor trust, and expansion efforts.\n",
    "\n",
    "\n",
    "\n",
    "3. **Sudden Drop (2018-2020):**\n",
    "\n",
    "    - A dramatic decline in low prices after 2018 indicates financial distress, governance issues, or regulatory concerns.\n",
    "\n",
    "    - The sharp falls suggest panic selling, potential liquidity crises, or rising NPAs (bad loans) impacting market confidence.\n",
    "\n",
    "    - Unlike earlier periods, the low prices show extreme volatility, signaling uncertainty in the bank’s financial stability.\n",
    "\n",
    "\n",
    "\n",
    "4. **Post-2020 Stabilization at Low Levels:**\n",
    "\n",
    "    - The low price remains stagnant at lower levels, showing that the bank has struggled to recover investor trust.\n",
    "\n",
    "    - The absence of a rebound suggests that market confidence remains weak despite attempts at restructuring.\n",
    "\n",
    "\n",
    "---\n",
    "\n",
    "\n",
    "**Comparison with Other Price Charts (Charts 1-3):**\n",
    "\n",
    "- The low price follows the same trend as opening, closing, and high prices, confirming the overall rise, peak, and decline of ***Yes Bank***.\n",
    "\n",
    "- Large gaps between high and low prices in the decline phase (2018-2020) suggest increased volatility, speculative trading, and uncertainty in market perception.\n",
    "\n",
    "\n",
    "---\n",
    "\n",
    "\n",
    "**Key Takeaways:**\n",
    "\n",
    "- ***Yes Bank*** had a strong growth phase but faced a sharp downfall, leading to market instability and a loss of investor confidence.\n",
    "\n",
    "- The low price trend emphasizes financial struggles more clearly than high prices, showing how the bank’s valuation collapsed.\n",
    "\n",
    "- Slow recovery post-2020 indicates that ***Yes Bank*** is still in a rebuilding phase, struggling to regain market stability.\n",
    "\n",
    "---"
   ]
  },
  {
   "cell_type": "markdown",
   "metadata": {
    "id": "y-Ehk30pYrdP"
   },
   "source": [
    "##### 3. Will the gained insights help creating a positive business impact?\n",
    "Are there any insights that lead to negative growth? Justify with specific reason."
   ]
  },
  {
   "cell_type": "markdown",
   "metadata": {
    "id": "jLNxxz7MYrdP"
   },
   "source": [
    "👍 **Positive Business Impact:**\n",
    "\n",
    "1. **Consistent Growth (2005-2015):**\n",
    "\n",
    "    - The gradual rise in low prices shows that ***Yes Bank*** maintained steady financial performance and strong investor confidence over a long period.\n",
    "\n",
    "    - Even during market fluctuations, the stock did not experience extreme lows, indicating resilience and stability.\n",
    "\n",
    "\n",
    "\n",
    "2. **Peak Performance (2016-2018):**\n",
    "\n",
    "    - The increasing low prices during this phase suggest that investors were willing to buy at higher price points, reinforcing strong demand and positive sentiment.\n",
    "\n",
    "    - The bank likely had good financial health, expansion plans, and business growth strategies driving market confidence.\n",
    "\n",
    "\n",
    "\n",
    "3. **Investment Opportunities:**\n",
    "\n",
    "    - Investors who entered early (before 2015) likely benefited from steady capital appreciation until the peak in 2018.\n",
    "\n",
    "    - A rising low price means that ***Yes Bank***’s valuation was consistently improving, making it an attractive stock for long-term investors.\n",
    "\n",
    "\n",
    "---\n",
    "\n",
    "\n",
    "👎 **Negative Growth & Business Impact:**\n",
    "\n",
    "1. **Sharp Decline (2018-2020):**\n",
    "\n",
    "    - The rapid fall in low prices indicates major financial distress, possibly due to governance issues, rising NPAs (bad loans), or regulatory interventions.\n",
    "\n",
    "    - The decline suggests that investor confidence was severely damaged, leading to panic selling and stock devaluation.\n",
    "\n",
    "\n",
    "\n",
    "2. **Extreme Volatility & Market Uncertainty:**\n",
    "\n",
    "    - The widening gap between high and low prices during the crisis phase reflects high market instability, suggesting that investors were unsure about the bank’s future.\n",
    "\n",
    "    - Large intraday swings often indicate speculative trading, liquidity issues, or institutional sell-offs.\n",
    "\n",
    "\n",
    "\n",
    "3. **Struggle for Recovery (Post-2020):**\n",
    "\n",
    "    - Even after the major fall, the low price remained at the bottom levels, indicating slow recovery and weak market confidence.\n",
    "\n",
    "    - This suggests that ***Yes Bank*** still faces challenges in rebuilding its financial strength and regaining investor trust.\n",
    "\n",
    "\n",
    "---\n",
    "\n",
    "\n",
    "**Final Takeaway:**\n",
    "\n",
    "***Yes Bank*** went through a classic growth-crisis-stagnation cycle. While it benefited from strong investor trust and business expansion, the sudden downfall highlights financial mismanagement, risk exposure, and governance failures. The continued low prices post-2020 suggest that recovery is slow, and investors remain cautious about the bank’s future.\n",
    "\n",
    "---"
   ]
  },
  {
   "cell_type": "markdown",
   "metadata": {
    "id": "bamQiAODYuh1"
   },
   "source": [
    "#### Chart 5 : Box Plot of Closing Prices by Year"
   ]
  },
  {
   "cell_type": "code",
   "execution_count": null,
   "metadata": {
    "id": "TIJwrbroYuh3"
   },
   "outputs": [],
   "source": [
    "# Setting the figure size\n",
    "plt.figure(figsize=(12, 6))\n",
    "\n",
    "# Creating box plot to visualize closing prices by year\n",
    "sns.boxplot(x='Year', y='Close', data=df)\n",
    "\n",
    "# Setting title and labels\n",
    "plt.title('Chart 5 : Box Plot of Closing Prices by Year')\n",
    "plt.xlabel('Year')\n",
    "plt.ylabel('Close Price')\n",
    "plt.grid(True)\n",
    "\n",
    "# Displaying the chart\n",
    "plt.show()"
   ]
  },
  {
   "cell_type": "markdown",
   "metadata": {
    "id": "QHF8YVU7Yuh3"
   },
   "source": [
    "#### 1. Why did I choose this particular chart?"
   ]
  },
  {
   "cell_type": "markdown",
   "metadata": {
    "id": "dcxuIMRPYuh3"
   },
   "source": [
    "📊 **Box Plot (Closing Prices by Year)**\n",
    "\n",
    "- **Why?**\n",
    "\n",
    "    - Box plots are excellent for understanding the distribution of data and identifying outliers.\n",
    "\n",
    "    - They summarize the central tendency, spread, and skewness of the data for each year.\n",
    "\n",
    "- **What They Show:**\n",
    "\n",
    "    - The distribution of closing, opening, high, and low prices for each year.\n",
    "\n",
    "    - Outliers (e.g., unusually high or low prices in a particular year).\n",
    "\n",
    "    - Yearly comparisons of price ranges and volatility.\n",
    "\n",
    "---"
   ]
  },
  {
   "cell_type": "markdown",
   "metadata": {
    "id": "GwzvFGzlYuh3"
   },
   "source": [
    "#### 2. What are the insights found from the chart?"
   ]
  },
  {
   "cell_type": "markdown",
   "metadata": {
    "id": "uyqkiB8YYuh3"
   },
   "source": [
    "👉 The chart represents a **Box plot of Yes Bank's closing prices by year**, showing the distribution of stock prices over time. Here are the key insights:\n",
    "\n",
    "1. **Steady Growth (2005-2015):**\n",
    "\n",
    "    - The median closing price gradually increased over the years, indicating consistent growth and positive investor sentiment.\n",
    "\n",
    "    - The spread of the box (interquartile range) is relatively narrow, meaning low price volatility during these years.\n",
    "\n",
    "\n",
    "\n",
    "2. **Rapid Surge (2016-2018):**\n",
    "\n",
    "    - The median price rose significantly, with 2017 and 2018 showing the highest stock prices.\n",
    "\n",
    "    - The box plot for these years has a larger spread, indicating higher volatility and increased investor trading activity.\n",
    "\n",
    "    - There are outliers in 2017 and 2018, which could represent extreme price movements due to speculation, earnings reports, or external factors.\n",
    "\n",
    "\n",
    "\n",
    "3. **Sharp Decline (2018-2020):**\n",
    "\n",
    "    - The stock price dropped drastically in 2019 and 2020, with a much larger spread, showing high volatility and uncertainty.\n",
    "\n",
    "    - The median price fell significantly, and the whiskers (price range) extended widely, indicating extreme market fluctuations.\n",
    "\n",
    "    - 2018 was the transition year, where prices started to decline but were still relatively high.\n",
    "\n",
    "\n",
    "\n",
    "4. **Post-2020 Stabilization at Low Levels:**\n",
    "\n",
    "    - By 2020, the stock price had settled at a much lower range, with less volatility, indicating that the market had adjusted to the new reality of ***Yes Bank***’s valuation.\n",
    "\n",
    "    - The compact box in 2020 shows low investor expectations and a lack of significant upward movement.\n",
    "\n",
    "\n",
    "---\n",
    "\n",
    "\n",
    "**Overall Insights:**\n",
    "\n",
    "- The bank saw strong and stable growth until 2015, followed by a rapid rise and peak in 2017-2018.\n",
    "\n",
    "- The sharp collapse after 2018 reflects financial distress, governance issues, or external regulatory challenges.\n",
    "\n",
    "- High volatility during the decline period suggests investor panic and speculative trading.\n",
    "\n",
    "- The post-2020 period shows stabilization at lower prices, indicating a loss of previous market confidence.\n",
    "\n",
    "\n",
    "---"
   ]
  },
  {
   "cell_type": "markdown",
   "metadata": {
    "id": "qYpmQ266Yuh3"
   },
   "source": [
    "#### 3. Will the gained insights help creating a positive business impact?\n",
    "Are there any insights that lead to negative growth? Justify with specific reason."
   ]
  },
  {
   "cell_type": "markdown",
   "metadata": {
    "id": "_WtzZ_hCYuh4"
   },
   "source": [
    "👍 **Positive Business Impact:**\n",
    "\n",
    "1. **Steady and Consistent Growth (2005-2015):**\n",
    "\n",
    "    - The box plot shows a gradual increase in median stock prices with low volatility, indicating strong financial stability and positive investor confidence.\n",
    "\n",
    "    - ***Yes Bank*** was expanding, attracting investors, and establishing itself as a reliable banking institution.\n",
    "\n",
    "\n",
    "\n",
    "2. **Peak Performance (2016-2018):**\n",
    "\n",
    "    - The rapid rise in stock prices during this period reflects strong earnings, expansion strategies, and high investor trust.\n",
    "\n",
    "    - Higher price volatility during this period suggests increased trading activity and interest from institutional investors.\n",
    "\n",
    "    - The bank’s stock was among the top-performing banking stocks, creating opportunities for capital raising and business expansion.\n",
    "\n",
    "\n",
    "\n",
    "3. **Investment Opportunities:**\n",
    "\n",
    "    - Investors who held the stock during the growth phase (before 2018) likely saw substantial returns, making it an attractive long-term investment at that time.\n",
    "\n",
    "    - The high price points created potential for strategic partnerships, business expansion, and financial strengthening.\n",
    "\n",
    "\n",
    "---\n",
    "\n",
    "\n",
    "👎 **Negative Growth & Business Impact:**\n",
    "\n",
    "1. **Sharp Decline and Market Instability (2018-2020):**\n",
    "\n",
    "    - The sudden drop in stock price in 2019-2020 indicates a severe financial crisis, loss of investor trust, and governance issues.\n",
    "\n",
    "    - The high volatility and wide price range suggest panic selling, regulatory interventions, and liquidity concerns.\n",
    "\n",
    "\n",
    "\n",
    "2. **Loss of Investor Confidence:**\n",
    "\n",
    "    - The drastic fall in the median price and the large spread in 2019 and 2020 indicate high market uncertainty.\n",
    "\n",
    "    - The bank faced difficulty raising capital and attracting new investors, impacting its ability to operate smoothly.\n",
    "\n",
    "\n",
    "\n",
    "3. **Long-Term Stagnation at Low Prices (Post-2020):**\n",
    "\n",
    "    - The narrow price range in 2020 suggests that the bank’s stock had stabilized at a much lower level, meaning the market had adjusted to a lower valuation.\n",
    "\n",
    "    - Recovery has been slow, showing that ***Yes Bank*** struggled to regain its previous strength and market position.\n",
    "\n",
    "\n",
    "---\n",
    "\n",
    "\n",
    "**Final Takeaway:**\n",
    "\n",
    "***Yes Bank*** experienced strong growth and peak success until 2018 but faced a dramatic collapse due to financial distress and governance issues. The high volatility during the decline suggests instability and loss of market trust. The bank has since stabilized at a lower valuation, but recovery remains a challenge.\n",
    "\n",
    "---"
   ]
  },
  {
   "cell_type": "markdown",
   "metadata": {
    "id": "OH-pJp9IphqM"
   },
   "source": [
    "#### Chart 6 : Box Plot of Opening Prices by Year"
   ]
  },
  {
   "cell_type": "code",
   "execution_count": null,
   "metadata": {
    "id": "kuRf4wtuphqN"
   },
   "outputs": [],
   "source": [
    "# Setting the figure size\n",
    "plt.figure(figsize=(12, 6))\n",
    "\n",
    "# Creating box plot to visualize opening prices by year\n",
    "sns.boxplot(x='Year', y='Open', data=df)\n",
    "\n",
    "# Setting title and labels\n",
    "plt.title('Chart 6 : Box Plot of Opening Prices by Year')\n",
    "plt.xlabel('Year')\n",
    "plt.ylabel('Open Price')\n",
    "plt.grid(True)\n",
    "\n",
    "# Displaying the chart\n",
    "plt.show()"
   ]
  },
  {
   "cell_type": "markdown",
   "metadata": {
    "id": "bbFf2-_FphqN"
   },
   "source": [
    "#### 1. Why did I choose this particular chart?"
   ]
  },
  {
   "cell_type": "markdown",
   "metadata": {
    "id": "loh7H2nzphqN"
   },
   "source": [
    "📊 **Box Plot (Opening Prices by Year)**\n",
    "\n",
    "- **Why?**\n",
    "\n",
    "    - Box plots are excellent for understanding the distribution of data and identifying outliers.\n",
    "\n",
    "    - They summarize the central tendency, spread, and skewness of the data for each year.\n",
    "\n",
    "- **What They Show:**\n",
    "\n",
    "    - The distribution of closing, opening, high, and low prices for each year.\n",
    "\n",
    "    - Outliers (e.g., unusually high or low prices in a particular year).\n",
    "\n",
    "    - Yearly comparisons of price ranges and volatility.\n",
    "\n",
    "---"
   ]
  },
  {
   "cell_type": "markdown",
   "metadata": {
    "id": "_ouA3fa0phqN"
   },
   "source": [
    "#### 2. What are the insights found from the chart?"
   ]
  },
  {
   "cell_type": "markdown",
   "metadata": {
    "id": "VECbqPI7phqN"
   },
   "source": [
    "👉 The chart represents a **Box plot of Yes Bank's opening prices by year**, showing the distribution of stock prices over time. Here are the key insights:\n",
    "\n",
    "1. **Steady Growth (2005-2015):**\n",
    "\n",
    "    - The median opening price gradually increased, indicating consistent business expansion and strong investor confidence.\n",
    "\n",
    "    - The narrow spread (small interquartile range) in these years suggests low price volatility and stable market sentiment.\n",
    "\n",
    "\n",
    "\n",
    "2. **Rapid Surge (2016-2018):**\n",
    "\n",
    "    - The stock price peaked in 2017 and 2018, with the highest opening prices reaching above 350.\n",
    "\n",
    "    - The wider box plots in these years suggest higher volatility, likely due to high investor activity, speculative trading, and strong financial performance.\n",
    "\n",
    "    - The presence of outliers indicates large fluctuations in daily opening prices, signaling uncertainty or market reactions to news/events.\n",
    "\n",
    "\n",
    "\n",
    "3. **Sharp Decline (2018-2020):**\n",
    "\n",
    "    - The median price dropped drastically in 2019 and 2020, reflecting a major loss of investor confidence and financial distress.\n",
    "\n",
    "    - The large spread in 2019 suggests high volatility, panic selling, and regulatory interventions.\n",
    "\n",
    "    - By 2020, the box plot is compressed at lower price levels, showing that the stock stabilized at a much lower valuation.\n",
    "\n",
    "\n",
    "\n",
    "4. **Comparison with Closing Price Box Plot:**\n",
    "\n",
    "    - The trends in opening prices closely match the closing prices, reinforcing the rise, peak, and decline pattern.\n",
    "\n",
    "    - If the difference between opening and closing prices is high in specific years, it suggests intraday volatility and speculative movements.\n",
    "\n",
    "\n",
    "---\n",
    "\n",
    "\n",
    "**Overall Insights:**\n",
    "\n",
    "- ***Yes Bank*** saw strong and stable growth until 2015, followed by a peak in 2017-2018.\n",
    "\n",
    "- The sharp collapse after 2018 reflects financial distress, governance issues, or external regulatory challenges.\n",
    "\n",
    "- High volatility in 2019 shows market uncertainty and investor panic.\n",
    "\n",
    "- Post-2020, the stock price remains low, indicating a difficult recovery phase.\n",
    "\n",
    "---"
   ]
  },
  {
   "cell_type": "markdown",
   "metadata": {
    "id": "Seke61FWphqN"
   },
   "source": [
    "#### 3. Will the gained insights help creating a positive business impact?\n",
    "Are there any insights that lead to negative growth? Justify with specific reason."
   ]
  },
  {
   "cell_type": "markdown",
   "metadata": {
    "id": "DW4_bGpfphqN"
   },
   "source": [
    "👍 **Positive Business Impact:**\n",
    "\n",
    "1. **Steady Growth & Market Trust (2005-2015):**\n",
    "\n",
    "    - The gradual increase in median opening prices shows strong business expansion, growing investor confidence, and financial stability.\n",
    "\n",
    "    - A narrow price range (low volatility) in these years indicates that investors viewed ***Yes Bank*** as a stable and promising investment option.\n",
    "\n",
    "\n",
    "\n",
    "2. **Peak Performance & High Investor Interest (2016-2018):**\n",
    "\n",
    "    - The sharp increase in opening prices suggests high investor confidence, strong earnings reports, and successful business strategies.\n",
    "\n",
    "    - High trading activity during this period created opportunities for capital raising, market expansion, and improved brand reputation.\n",
    "\n",
    "    - The high price range indicates increased liquidity, allowing ***Yes Bank*** to attract institutional investors and strategic partners.\n",
    "\n",
    "\n",
    "\n",
    "3. **Opportunities for Growth:**\n",
    "\n",
    "    - Investors who bought early (before 2015) likely earned significant returns, which increased market participation and brand trust.\n",
    "\n",
    "    - The higher valuations allowed ***Yes Bank*** to expand its lending capacity and financial services, strengthening its market position.\n",
    "\n",
    "\n",
    "---\n",
    "\n",
    "\n",
    "👎 **Negative Growth & Business Impact:**\n",
    "\n",
    "1. **Financial Instability & Sharp Decline (2018-2020):**\n",
    "\n",
    "    - The steep drop in opening prices in 2019 and 2020 indicates loss of investor trust, financial mismanagement, or regulatory interventions.\n",
    "\n",
    "    - The large spread in 2019 suggests high volatility, meaning the stock was extremely unstable, affecting both investors and the bank’s ability to raise capital.\n",
    "\n",
    "\n",
    "\n",
    "2. **Market Panic & Speculative Trading:**\n",
    "\n",
    "    - The high fluctuations in 2019 indicate that investors were uncertain about Yes Bank’s future, leading to panic selling and price swings.\n",
    "\n",
    "    - This instability discouraged long-term investors, reducing the bank’s ability to attract fresh capital.\n",
    "\n",
    "\n",
    "\n",
    "3. **Stagnation & Weak Recovery (Post-2020):**\n",
    "\n",
    "    - The compressed price range in 2020 shows that Yes Bank’s stock had settled at a much lower value, meaning investors adjusted to the bank’s weaker financial position.\n",
    "\n",
    "    - Recovery has been slow and challenging, with the bank struggling to regain its previous market position.\n",
    "\n",
    "\n",
    "---\n",
    "\n",
    "\n",
    "**Final Takeaway:**\n",
    "\n",
    "***Yes Bank*** experienced a strong growth phase, peak performance, financial distress, and a sharp decline. The high volatility in 2019 highlights severe instability, while the low prices in 2020 suggest weak recovery and continued investor caution.\n",
    "\n",
    "\n",
    "---\n"
   ]
  },
  {
   "cell_type": "markdown",
   "metadata": {
    "id": "PIIx-8_IphqN"
   },
   "source": [
    "#### Chart 7 : Box Plot of High Prices by Year"
   ]
  },
  {
   "cell_type": "code",
   "execution_count": null,
   "metadata": {
    "id": "lqAIGUfyphqO"
   },
   "outputs": [],
   "source": [
    "# Setting the figure size\n",
    "plt.figure(figsize=(12, 6))\n",
    "\n",
    "# Creating box plot to visualize high prices by year\n",
    "sns.boxplot(x='Year', y='High', data=df)\n",
    "\n",
    "# Setting title and labels\n",
    "plt.title('Chart 7 : Box Plot of High Prices by Year')\n",
    "plt.xlabel('Year')\n",
    "plt.ylabel('High Price')\n",
    "plt.grid(True)\n",
    "\n",
    "# Displaying the chart\n",
    "plt.show()"
   ]
  },
  {
   "cell_type": "markdown",
   "metadata": {
    "id": "t27r6nlMphqO"
   },
   "source": [
    "#### 1. Why did I choose this particular chart?"
   ]
  },
  {
   "cell_type": "markdown",
   "metadata": {
    "id": "iv6ro40sphqO"
   },
   "source": [
    "📊 **Box Plot (High Prices by Year)**\n",
    "\n",
    "- **Why?**\n",
    "\n",
    "    - Box plots are excellent for understanding the distribution of data and identifying outliers.\n",
    "\n",
    "    - They summarize the central tendency, spread, and skewness of the data for each year.\n",
    "\n",
    "- **What They Show:**\n",
    "\n",
    "    - The distribution of closing, opening, high, and low prices for each year.\n",
    "\n",
    "    - Outliers (e.g., unusually high or low prices in a particular year).\n",
    "\n",
    "    - Yearly comparisons of price ranges and volatility.\n",
    "\n",
    "---"
   ]
  },
  {
   "cell_type": "markdown",
   "metadata": {
    "id": "r2jJGEOYphqO"
   },
   "source": [
    "#### 2. What are the insights found from the chart?"
   ]
  },
  {
   "cell_type": "markdown",
   "metadata": {
    "id": "Po6ZPi4hphqO"
   },
   "source": [
    "👉 The chart represents a **Box plot of Yes Bank's high prices by year**, showing the distribution of the highest stock prices over time. Here are the key insights:\n",
    "\n",
    "1. **Steady Growth & Stability (2005-2015):**\n",
    "\n",
    "    - The median high price increased gradually, indicating consistent business expansion, strong financial performance, and positive investor sentiment.\n",
    "\n",
    "    - The narrow interquartile range (IQR) during this period suggests low price volatility and stable trading patterns.\n",
    "\n",
    "\n",
    "\n",
    "2. **Rapid Surge & High Investor Interest (2016-2018):**\n",
    "\n",
    "    - The stock’s highest prices peaked in 2017 and 2018, reaching above 400, showing strong investor confidence and market optimism.\n",
    "\n",
    "    - The wider spread in these years suggests increased price fluctuations, likely driven by higher trading volumes, speculation, and institutional investments.\n",
    "\n",
    "    - The presence of outliers indicates occasional extreme price movements, possibly due to earnings reports, regulatory news, or external market factors.\n",
    "\n",
    "\n",
    "\n",
    "3. **Sharp Decline & Market Panic (2018-2020):**\n",
    "\n",
    "    - A steep drop in high prices in 2019 and 2020 indicates a major financial crisis, loss of investor trust, and governance issues.\n",
    "\n",
    "    - The larger spread in 2019 suggests high volatility, meaning the stock faced sharp intraday swings due to panic selling and regulatory concerns.\n",
    "\n",
    "    - The lower median and compressed range in 2020 indicate that ***Yes Bank***’s stock had lost its high-value trading range, stabilizing at much lower levels.\n",
    "\n",
    "\n",
    "\n",
    "4. **Comparison with Other Box Plots (Opening & Closing Prices):**\n",
    "\n",
    "    - The trend closely follows the opening and closing price patterns, confirming that the stock went through a growth-peak-collapse cycle.\n",
    "\n",
    "    - The larger gaps between the median and upper whiskers in 2017-2018 suggest that traders pushed the stock to higher price levels during bullish phases.\n",
    "\n",
    "\n",
    "---\n",
    "\n",
    "\n",
    "**Overall Insights:**\n",
    "\n",
    "- ***Yes Bank*** experienced steady growth until 2015, followed by a peak in 2017-2018.\n",
    "\n",
    "- The sharp collapse after 2018 indicates financial distress, governance failures, or regulatory challenges.\n",
    "\n",
    "- High volatility in 2019 suggests extreme market uncertainty and investor panic.\n",
    "\n",
    "- Post-2020, the stock price remains low, reflecting a slow recovery and weaker investor confidence.\n",
    "\n",
    "\n",
    "---"
   ]
  },
  {
   "cell_type": "markdown",
   "metadata": {
    "id": "b0JNsNcRphqO"
   },
   "source": [
    "#### 3. Will the gained insights help creating a positive business impact?\n",
    "Are there any insights that lead to negative growth? Justify with specific reason."
   ]
  },
  {
   "cell_type": "markdown",
   "metadata": {
    "id": "xvSq8iUTphqO"
   },
   "source": [
    "👍 **Positive Business Impact:**\n",
    "\n",
    "1. **Steady Growth & Strong Market Trust (2005-2015):**\n",
    "\n",
    "    - The gradual rise in median high prices reflects consistent financial growth, business expansion, and investor confidence.\n",
    "\n",
    "    - Low volatility in this period indicates stable stock performance, attracting long-term investors.\n",
    "\n",
    "\n",
    "\n",
    "2. **Peak Performance & High Investor Interest (2016-2018):**\n",
    "\n",
    "    - The sharp increase in high prices suggests strong financial results, effective business strategies, and high market demand.\n",
    "\n",
    "    - Higher trading volumes and increased price range suggest growing institutional interest and retail investor participation.\n",
    "\n",
    "    - Liquidity increased, making it easier for the bank to raise capital, expand lending operations, and invest in new business opportunities.\n",
    "\n",
    "\n",
    "\n",
    "3. **Opportunities for Shareholders:**\n",
    "\n",
    "    - Investors who held shares before 2015 saw significant gains, benefiting from capital appreciation and increased market valuation.\n",
    "\n",
    "    - The bank’s reputation strengthened, positioning it as a leading private sector bank.\n",
    "\n",
    "\n",
    "---\n",
    "\n",
    "\n",
    "👎 **Negative Growth & Business Impact:**\n",
    "\n",
    "1. **Financial Crisis & Market Panic (2018-2020):**\n",
    "\n",
    "    - The steep fall in high prices reflects serious financial distress, governance failures, or regulatory scrutiny.\n",
    "\n",
    "    - The larger spread in 2019 indicates extreme price fluctuations, suggesting panic selling and speculative trading.\n",
    "\n",
    "\n",
    "\n",
    "2. **Loss of Investor Confidence:**\n",
    "\n",
    "    - The drop in stock price suggests that investors lost trust due to rising bad loans (NPAs), liquidity issues, or mismanagement.\n",
    "\n",
    "    - This made it difficult for the bank to attract new investments or raise funds in the market.\n",
    "\n",
    "\n",
    "\n",
    "3. **Stagnation & Weak Recovery (Post-2020):**\n",
    "\n",
    "    - The compressed price range in 2020 shows that ***Yes Bank***’s stock stabilized at a much lower level, meaning the market adjusted to its lower valuation.\n",
    "\n",
    "    - The bank struggled to regain its previous market position, reflecting challenges in restoring investor trust and financial stability.\n",
    "\n",
    "\n",
    "---\n",
    "\n",
    "\n",
    "**Final Takeaway:**\n",
    "\n",
    "***Yes Bank*** experienced rapid growth and peak market performance but faced a steep decline due to financial instability and governance issues. The high volatility during the decline phase highlights severe instability, and the post-2020 stagnation suggests weak recovery and continued investor caution.\n",
    "\n",
    "\n",
    "---"
   ]
  },
  {
   "cell_type": "markdown",
   "metadata": {
    "id": "BZR9WyysphqO"
   },
   "source": [
    "#### Chart 8 : Box Plot of Low Prices by Year"
   ]
  },
  {
   "cell_type": "code",
   "execution_count": null,
   "metadata": {
    "id": "TdPTWpAVphqO"
   },
   "outputs": [],
   "source": [
    "# Setting the figure size\n",
    "plt.figure(figsize=(12, 6))\n",
    "\n",
    "# Creating box plot to visualize low prices by year\n",
    "sns.boxplot(x='Year', y='Low', data=df)\n",
    "\n",
    "# Setting title and labels\n",
    "plt.title('Chart 8 : Box Plot of Low Prices by Year')\n",
    "plt.xlabel('Year')\n",
    "plt.ylabel('Low Price')\n",
    "plt.grid(True)\n",
    "\n",
    "# Displaying the chart\n",
    "plt.show()"
   ]
  },
  {
   "cell_type": "markdown",
   "metadata": {
    "id": "jj7wYXLtphqO"
   },
   "source": [
    "#### 1. Why did I choose this particular chart?"
   ]
  },
  {
   "cell_type": "markdown",
   "metadata": {
    "id": "Ob8u6rCTphqO"
   },
   "source": [
    "📊 **Box Plot (Low Prices by Year)**\n",
    "\n",
    "- **Why?**\n",
    "\n",
    "    - Box plots are excellent for understanding the distribution of data and identifying outliers.\n",
    "\n",
    "    - They summarize the central tendency, spread, and skewness of the data for each year.\n",
    "\n",
    "- **What They Show:**\n",
    "\n",
    "    - The distribution of closing, opening, high, and low prices for each year.\n",
    "\n",
    "    - Outliers (e.g., unusually high or low prices in a particular year).\n",
    "\n",
    "    - Yearly comparisons of price ranges and volatility.\n",
    "\n",
    "---"
   ]
  },
  {
   "cell_type": "markdown",
   "metadata": {
    "id": "eZrbJ2SmphqO"
   },
   "source": [
    "#### 2. What are the insights found from the chart?"
   ]
  },
  {
   "cell_type": "markdown",
   "metadata": {
    "id": "mZtgC_hjphqO"
   },
   "source": [
    "👉 The chart represents a **Box plot of Yes Bank's low prices by year**, showing the lowest stock prices recorded each year. Here are the key insights:\n",
    "\n",
    "1. **Steady Growth & Stability (2005-2015):**\n",
    "\n",
    "    - The median low price gradually increased, indicating strong financial stability and steady investor confidence.\n",
    "\n",
    "    - The narrow interquartile range (IQR) during this period suggests low price volatility and a stable stock price.\n",
    "\n",
    "\n",
    "\n",
    "2. **Rapid Price Surge & Increased Volatility (2016-2018):**\n",
    "\n",
    "    - The low prices peaked in 2017-2018, meaning even the lowest stock price during this period was relatively high.\n",
    "\n",
    "    - A wider price range indicates higher volatility, likely due to strong trading volumes, institutional interest, and positive market sentiment.\n",
    "\n",
    "    - Presence of outliers in 2017-2018 suggests occasional sharp downward movements, possibly due to short-term market corrections or investor reactions to financial reports.\n",
    "\n",
    "\n",
    "\n",
    "3. **Sharp Decline & Market Panic (2018-2020):**\n",
    "\n",
    "    - A steep drop in low prices from 2019 onwards indicates financial distress, governance issues, or regulatory interventions.\n",
    "\n",
    "    - The large price range in 2019 suggests extreme volatility, meaning the stock had significant intraday price swings due to panic selling and speculation.\n",
    "\n",
    "    - By 2020, the low price range is very compact, meaning the stock stabilized at a much lower valuation.\n",
    "\n",
    "\n",
    "\n",
    "4. **Comparison with Other Box Plots (Opening, Closing, and High Prices):**\n",
    "\n",
    "    - The trend closely follows the opening, closing, and high price patterns, confirming the overall rise, peak, and decline cycle.\n",
    "\n",
    "    - The large gap between the highest and lowest prices in 2018-2019 suggests high-risk trading, sudden market reactions, and speculation-driven price swings.\n",
    "\n",
    "\n",
    "---\n",
    "\n",
    "\n",
    "**Overall Insights:**\n",
    "\n",
    "- ***Yes Bank*** saw strong and stable growth until 2015, followed by a peak in 2017-2018.\n",
    "\n",
    "- The sharp decline after 2018 reflects financial instability, governance failures, and regulatory concerns.\n",
    "\n",
    "- High volatility in 2019 indicates panic selling, speculation, and uncertainty in the market.\n",
    "\n",
    "- Post-2020, the stock price remains low, suggesting a weak recovery and lack of strong investor confidence.\n",
    "\n",
    "\n",
    "---"
   ]
  },
  {
   "cell_type": "markdown",
   "metadata": {
    "id": "rFu4xreNphqO"
   },
   "source": [
    "#### 3. Will the gained insights help creating a positive business impact?\n",
    "Are there any insights that lead to negative growth? Justify with specific reason."
   ]
  },
  {
   "cell_type": "markdown",
   "metadata": {
    "id": "ey_0qi68phqO"
   },
   "source": [
    "👍 **Positive Business Impact:**\n",
    "\n",
    "1. **Steady Growth & Market Confidence (2005-2015):**\n",
    "\n",
    "    - The gradual rise in median low prices suggests strong financial stability and consistent investor trust.\n",
    "\n",
    "    - Low volatility in this period indicates that Yes Bank’s stock was considered reliable and less risky, attracting long-term investors.\n",
    "\n",
    "\n",
    "\n",
    "2. **Peak Performance & Strong Market Presence (2016-2018):**\n",
    "\n",
    "    - The significant rise in low prices suggests that even during market dips, the stock maintained high valuations, reflecting strong demand and positive market sentiment.\n",
    "\n",
    "    - Institutional investments and high trading volumes contributed to growth opportunities, higher liquidity, and stronger capital-raising abilities.\n",
    "\n",
    "    - The bank likely expanded operations, gained market share, and attracted new investors, making it one of the top-performing banking stocks.\n",
    "\n",
    "\n",
    "\n",
    "3. **Higher Valuation & Investment Growth:**\n",
    "\n",
    "    - Investors who bought shares before 2015 saw significant gains, which increased market participation and trust in the bank’s growth potential.\n",
    "\n",
    "    - The bank had a strong financial reputation, leading to better borrowing capacity, loan disbursement growth, and business expansion.\n",
    "\n",
    "\n",
    "---\n",
    "\n",
    "\n",
    "👎 **Negative Growth & Business Impact:**\n",
    "\n",
    "1. **Financial Crisis & Loss of Stability (2018-2020):**\n",
    "\n",
    "    - The steep drop in low prices reflects severe financial distress, rising bad loans (NPAs), and regulatory scrutiny.\n",
    "\n",
    "    - The large fluctuations in 2019 indicate high volatility, panic selling, and uncertainty, which caused a massive loss of market trust.\n",
    "\n",
    "\n",
    "\n",
    "2. **Loss of Investor Confidence & Market Panic:**\n",
    "\n",
    "    - The widening price range in 2019 suggests that investors were unsure about the bank’s future, leading to heavy speculative trading and price swings.\n",
    "\n",
    "    - Institutional investors and retail traders exited the stock, making it difficult for Yes Bank to raise fresh capital and fund its operations effectively.\n",
    "\n",
    "\n",
    "\n",
    "3. **Weak Recovery & Market Stagnation (Post-2020):**\n",
    "\n",
    "    - By 2020, the stock price had significantly dropped and stabilized at much lower levels, showing that the market adjusted to a new, weaker valuation.\n",
    "\n",
    "    - The bank struggled to regain investor trust, limiting its ability to expand and compete effectively.\n",
    "\n",
    "    - The low and narrow price range in 2020 suggests that the stock lacked strong buying interest, further delaying recovery.\n",
    "\n",
    "\n",
    "---\n",
    "\n",
    "\n",
    "**Final Takeaway:**\n",
    "\n",
    "- ***Yes Bank*** experienced a classic rise-and-fall cycle:\n",
    "\n",
    "- Rapid growth (2005-2015)\n",
    "\n",
    "- Peak performance and expansion (2016-2018)\n",
    "\n",
    "- Steep decline due to financial instability (2018-2020)\n",
    "\n",
    "- Weak recovery and stagnation (Post-2020)\n",
    "\n",
    "\n",
    "While the bank benefited from strong market growth and investor trust in earlier years, its governance failures, financial instability, and regulatory challenges led to a massive decline in stock value and business performance.\n",
    "\n",
    "\n",
    "---"
   ]
  },
  {
   "cell_type": "markdown",
   "metadata": {
    "id": "YJ55k-q6phqO"
   },
   "source": [
    "#### Chart 9 : Histogram of Closing Prices"
   ]
  },
  {
   "cell_type": "code",
   "execution_count": null,
   "metadata": {
    "id": "B2aS4O1ophqO"
   },
   "outputs": [],
   "source": [
    "# Setting the figure size\n",
    "plt.figure(figsize=(12, 6))\n",
    "\n",
    "# Creating a histogram to visualize closing prices\n",
    "sns.histplot(df['Close'], bins=30, color='blue', alpha=0.7, kde=True)\n",
    "\n",
    "# Setting title and labels\n",
    "plt.title('Chart 9 : Histogram of Closing Prices')\n",
    "plt.xlabel('Close Price')\n",
    "plt.ylabel('Frequency')\n",
    "\n",
    "# Displaying the chart\n",
    "plt.show()"
   ]
  },
  {
   "cell_type": "markdown",
   "metadata": {
    "id": "gCFgpxoyphqP"
   },
   "source": [
    "#### 1. Why did I choose this particular chart?"
   ]
  },
  {
   "cell_type": "markdown",
   "metadata": {
    "id": "TVxDimi2phqP"
   },
   "source": [
    "📊 **Histogram (Closing Prices)**\n",
    "\n",
    "- **Why?**\n",
    "\n",
    "    - Histograms are used to visualize the frequency distribution of a single variable.\n",
    "\n",
    "    - They help understand the spread and concentration of values (e.g., how often certain price ranges occur).\n",
    "\n",
    "- **What They Show:**\n",
    "\n",
    "    - The distribution of closing, opening, high, and low prices across the entire dataset.\n",
    "\n",
    "    - For example, a histogram of closing prices can show whether most prices are clustered around a specific range or spread out.\n",
    "\n",
    "---\n"
   ]
  },
  {
   "cell_type": "markdown",
   "metadata": {
    "id": "OVtJsKN_phqQ"
   },
   "source": [
    "#### 2. What are the insights found from the chart?"
   ]
  },
  {
   "cell_type": "markdown",
   "metadata": {
    "id": "ngGi97qjphqQ"
   },
   "source": [
    "👉 The chart is a **Histogram of Yes Bank's closing prices**, showing the frequency distribution of stock prices over time. Here are the key insights:\n",
    "\n",
    "1. **Most Frequent Closing Prices (Left-Skewed Distribution):**\n",
    "\n",
    "    - A majority of the closing prices are **below ₹50**, with high frequency in the **₹0-50 range**.\n",
    "\n",
    "    - This indicates that the stock spent a significant amount of time trading at lower prices, likely due to the decline after 2018.\n",
    "\n",
    "\n",
    "\n",
    "2. **Lower Frequency at Higher Prices:**\n",
    "\n",
    "    - Fewer occurrences of closing prices **above ₹150**, indicating that the stock did not sustain high valuations for long.\n",
    "\n",
    "    - The peak prices **above ₹300-350** were rare, suggesting that the bank’s high growth phase was relatively short-lived.\n",
    "\n",
    "\n",
    "\n",
    "3. **Two Distinct Peaks (Bimodal Distribution):**\n",
    "\n",
    "    - One peak **around ₹0-50**, representing the stock’s recent lower trading range.\n",
    "\n",
    "    - Another smaller peak **between ₹250-350**, corresponding to the peak growth years (2017-2018).\n",
    "\n",
    "    - This bimodal pattern reflects the dramatic rise and fall of ***Yes Bank***’s stock price.\n",
    "\n",
    "\n",
    "\n",
    "4. **Market Sentiment & Volatility:**\n",
    "\n",
    "    - The presence of a long tail on the right side suggests that high stock prices were less frequent and unsustainable.\n",
    "\n",
    "    - A wide **price range (from ₹0 to ₹350+)** indicates extreme market volatility, likely due to financial instability and investor uncertainty.\n",
    "\n",
    "\n",
    "---\n",
    "\n",
    "\n",
    "**Overall Insights:**\n",
    "\n",
    "- ***Yes Bank***’s stock traded at lower prices for most of the time, indicating weak long-term performance.\n",
    "\n",
    "- A significant price surge occurred during the peak years, but it was short-lived.\n",
    "\n",
    "- The histogram confirms that the stock followed a rise-crash-stabilization cycle, with sustained low prices after the decline.\n",
    "\n",
    "\n",
    "---"
   ]
  },
  {
   "cell_type": "markdown",
   "metadata": {
    "id": "lssrdh5qphqQ"
   },
   "source": [
    "#### 3. Will the gained insights help creating a positive business impact?\n",
    "Are there any insights that lead to negative growth? Justify with specific reason."
   ]
  },
  {
   "cell_type": "markdown",
   "metadata": {
    "id": "tBpY5ekJphqQ"
   },
   "source": [
    "👍 **Positive Business Impact:**\n",
    "\n",
    "1. **High Growth Phase & Peak Performance (2017-2018):**\n",
    "\n",
    "    - The presence of a secondary peak in the **₹250-350** range shows that ***Yes Bank*** reached high valuations, indicating strong investor confidence, business expansion, and financial growth.\n",
    "\n",
    "    - The stock was among the top-performing banking stocks, attracting institutional and retail investors.\n",
    "\n",
    "\n",
    "\n",
    "2. **Opportunities for Investors & Stakeholders:**\n",
    "\n",
    "    - Investors who entered the market before 2015 likely saw significant capital appreciation when prices peaked.\n",
    "\n",
    "    - The high stock price helped ***Yes Bank*** raise funds, expand operations, and strengthen its market position.\n",
    "\n",
    "\n",
    "\n",
    "3. **Market Liquidity & Trading Interest:**\n",
    "\n",
    "    - The spread of prices suggests that the stock was actively traded, offering liquidity and opportunities for short-term gains.\n",
    "\n",
    "    - Increased trading activity reflects higher market participation, making the bank a preferred investment choice at its peak.\n",
    "\n",
    "\n",
    "---\n",
    "\n",
    "\n",
    "👎 **Negative Growth & Business Impact:**\n",
    "\n",
    "1. **Severe Price Decline & Market Crash (2018-2020):**\n",
    "\n",
    "    - The highest frequency of closing prices is in the ₹0-50 range, showing that Yes Bank’s stock spent most of its time at low valuations.\n",
    "\n",
    "    - This suggests a massive decline in investor confidence, financial instability, and business struggles.\n",
    "\n",
    "\n",
    "\n",
    "2. **Short-Lived High Valuation & Unsustainable Growth:**\n",
    "\n",
    "    - The low occurrence of prices above ₹250 shows that the stock failed to sustain its high valuation, meaning the market quickly corrected after initial enthusiasm.\n",
    "\n",
    "    - This reflects governance issues, rising NPAs (bad loans), or regulatory concerns that led to a rapid downfall.\n",
    "\n",
    "\n",
    "\n",
    "3. **High Volatility & Investor Losses:**\n",
    "\n",
    "    - The wide price distribution indicates that the stock experienced extreme volatility, making it a high-risk investment.\n",
    "\n",
    "    - Investors who bought at higher price levels (₹200-350) likely suffered massive losses when the stock crashed.\n",
    "\n",
    "\n",
    "\n",
    "4. **Stagnation & Slow Recovery (Post-2020):**\n",
    "\n",
    "    - The dominance of low-price frequencies suggests that Yes Bank has struggled to recover and remains undervalued compared to its past performance.\n",
    "\n",
    "    - This indicates ongoing challenges in rebuilding investor trust and financial strength.\n",
    "\n",
    "\n",
    "---\n",
    "\n",
    "\n",
    "**Final Takeaway:**\n",
    "\n",
    "- Yes Bank experienced a dramatic rise and fall:\n",
    "\n",
    "- Strong growth (pre-2018) brought investor confidence and high stock valuations.\n",
    "\n",
    "- The sharp decline (post-2018) resulted in a long period of low stock prices, market panic, and weak recovery.\n",
    "\n",
    "- The stock remains mostly undervalued, indicating continued struggles in regaining market trust.\n",
    "\n",
    "\n",
    "---"
   ]
  },
  {
   "cell_type": "markdown",
   "metadata": {
    "id": "U2RJ9gkRphqQ"
   },
   "source": [
    "#### Chart 10 : Histogram of Opening Prices"
   ]
  },
  {
   "cell_type": "code",
   "execution_count": null,
   "metadata": {
    "id": "GM7a4YP4phqQ"
   },
   "outputs": [],
   "source": [
    "# Setting the figure size\n",
    "plt.figure(figsize=(12, 6))\n",
    "\n",
    "# Creating a histogram to visualize opening prices\n",
    "sns.histplot(df['Open'], bins=30, color='orange', alpha=0.7, kde=True)\n",
    "\n",
    "# Setting title and labels\n",
    "plt.title('Chart 10 : Histogram of Opening Prices')\n",
    "plt.xlabel('Open Price')\n",
    "plt.ylabel('Frequency')\n",
    "\n",
    "# Displaying the chart\n",
    "plt.show()"
   ]
  },
  {
   "cell_type": "markdown",
   "metadata": {
    "id": "1M8mcRywphqQ"
   },
   "source": [
    "#### 1. Why did I choose this particular chart?"
   ]
  },
  {
   "cell_type": "markdown",
   "metadata": {
    "id": "8agQvks0phqQ"
   },
   "source": [
    "📊 **Histogram (Opening Prices)**\n",
    "\n",
    "- **Why?**\n",
    "\n",
    "    - Histograms are used to visualize the frequency distribution of a single variable.\n",
    "\n",
    "    - They help understand the spread and concentration of values (e.g., how often certain price ranges occur).\n",
    "\n",
    "- **What They Show:**\n",
    "\n",
    "    - The distribution of closing, opening, high, and low prices across the entire dataset.\n",
    "\n",
    "    - For example, a histogram of closing prices can show whether most prices are clustered around a specific range or spread out.\n",
    "\n",
    "---"
   ]
  },
  {
   "cell_type": "markdown",
   "metadata": {
    "id": "tgIPom80phqQ"
   },
   "source": [
    "#### 2. What are the insights found from the chart?"
   ]
  },
  {
   "cell_type": "markdown",
   "metadata": {
    "id": "Qp13pnNzphqQ"
   },
   "source": [
    "👉 The chart is a **Histogram of Yes Bank's opening prices**, showing the frequency distribution of stock prices over time. Here are the key insights:\n",
    "\n",
    "1. **Most Frequent Opening Prices (Left-Skewed Distribution):**\n",
    "\n",
    "    - A majority of the opening prices are **below ₹50**, with high frequency in the **₹0-50 range**.\n",
    "\n",
    "    - This indicates that the stock spent most of its time trading at lower price levels, likely due to the sharp decline after 2018.\n",
    "\n",
    "\n",
    "\n",
    "2. **Lower Occurrence of High Prices:**\n",
    "\n",
    "    - The frequency of opening prices **above ₹150** is significantly lower, meaning the stock had fewer instances of high valuations.\n",
    "\n",
    "    - The peak prices **above ₹300-350** were rare, confirming that ***Yes Bank***'s high growth phase was short-lived.\n",
    "\n",
    "\n",
    "\n",
    "3. **Bimodal Distribution (Two Peaks):**\n",
    "\n",
    "    - One peak **around ₹0-50**, representing the stock’s recent low trading phase.\n",
    "\n",
    "    - Another smaller peak in the **₹250-350 range**, corresponding to the high-growth period (2017-2018).\n",
    "\n",
    "    - This suggests a **boom-and-bust cycle**, where the stock rose rapidly, peaked, and then crashed.\n",
    "\n",
    "\n",
    "\n",
    "4. **Market Sentiment & Volatility:**\n",
    "\n",
    "    - The presence of a long tail on the right suggests that high stock prices were less frequent and unsustainable.\n",
    "\n",
    "    - The wide spread of prices **(₹0 to ₹350+)** indicates extreme market volatility, likely due to financial instability and investor uncertainty.\n",
    "\n",
    "\n",
    "---\n",
    "\n",
    "\n",
    "**Comparison with Closing Price Histogram:**\n",
    "\n",
    "- The trends are almost identical, confirming that the stock followed a rise-crash-stabilization cycle.\n",
    "\n",
    "- If the opening price distribution is similar to closing price distribution, it suggests fewer major intraday price swings.\n",
    "\n",
    "\n",
    "---\n",
    "\n",
    "\n",
    "**Overall Insights:**\n",
    "\n",
    "- ***Yes Bank***’s stock was frequently at lower prices, reflecting weak long-term performance.\n",
    "\n",
    "- A significant price surge occurred, but it was short-lived and not sustainable.\n",
    "\n",
    "- The histogram confirms the stock followed a boom-and-bust cycle, with sustained low prices after the decline.\n",
    "\n",
    "\n",
    "---"
   ]
  },
  {
   "cell_type": "markdown",
   "metadata": {
    "id": "JMzcOPDDphqR"
   },
   "source": [
    "#### 3. Will the gained insights help creating a positive business impact?\n",
    "Are there any insights that lead to negative growth? Justify with specific reason."
   ]
  },
  {
   "cell_type": "markdown",
   "metadata": {
    "id": "R4Ka1PC2phqR"
   },
   "source": [
    "👍 **Positive Business Impact:**\n",
    "\n",
    "1. **Strong Growth & Market Confidence (2017-2018):**\n",
    "\n",
    "    - The secondary peak in the ₹250-350 range shows that ***Yes Bank*** experienced high investor confidence and rapid expansion during its peak years.\n",
    "\n",
    "    - The stock reached top-performing levels, making it an attractive investment option for institutional and retail investors.\n",
    "\n",
    "\n",
    "\n",
    "2. **Opportunities for Investors & Business Expansion:**\n",
    "\n",
    "    - Investors who entered before 2015 saw significant capital appreciation when prices surged.\n",
    "\n",
    "    - The high stock price helped the bank raise capital, expand lending operations, and improve its brand reputation.\n",
    "\n",
    "\n",
    "\n",
    "3. **High Trading Liquidity & Market Participation:**\n",
    "\n",
    "    - The wide distribution of prices suggests that the stock was actively traded, leading to high liquidity and strong market engagement.\n",
    "\n",
    "    - Increased trading activity allowed ***Yes Bank*** to attract more institutional investors and financial partnerships.\n",
    "\n",
    "\n",
    "---\n",
    "\n",
    "\n",
    "👎 **Negative Growth & Business Impact:**\n",
    "\n",
    "1. **Severe Price Decline & Market Panic (2018-2020):**\n",
    "\n",
    "    - The majority of opening prices are below ₹50, showing that the stock remained at low valuations for an extended period.\n",
    "\n",
    "    - This suggests a massive loss of investor trust due to financial instability, governance issues, and regulatory concerns.\n",
    "\n",
    "\n",
    "\n",
    "2. **Short-Lived High Valuation & Unsustainable Growth:**\n",
    "\n",
    "    - The low frequency of prices above ₹250 indicates that the stock failed to sustain its high valuation.\n",
    "\n",
    "    - The market quickly corrected after initial optimism, leading to a steep price drop and declining investor interest.\n",
    "\n",
    "\n",
    "\n",
    "3. **High Volatility & Investor Losses:**\n",
    "\n",
    "    - The wide spread of prices (₹0-350+) highlights extreme market volatility, making the stock a high-risk investment.\n",
    "\n",
    "    - Investors who bought at higher price levels (₹200-350) likely suffered significant losses when the stock crashed.\n",
    "\n",
    "\n",
    "\n",
    "4. **Stagnation & Weak Recovery (Post-2020):**\n",
    "\n",
    "    - The dominance of low-price frequencies suggests Yes Bank has struggled to recover.\n",
    "\n",
    "    - The stock remains undervalued, reflecting ongoing challenges in regaining investor confidence and financial stability.\n",
    "\n",
    "\n",
    "---\n",
    "\n",
    "\n",
    "**Final Takeaway:**\n",
    "\n",
    "- ***Yes Bank***’s stock followed a classic rise-and-fall cycle:\n",
    "\n",
    "- Strong growth (pre-2018) → Peak success (2017-2018) → Sharp decline (2018-2020) → Stagnation (post-2020).\n",
    "\n",
    "- While it benefited from rapid expansion and high market interest, financial instability and governance issues led to its downfall.\n",
    "\n",
    "- The stock remains mostly undervalued, reflecting continued struggles in regaining market trust.\n",
    "\n",
    "\n",
    "---"
   ]
  },
  {
   "cell_type": "markdown",
   "metadata": {
    "id": "x-EpHcCOp1ci"
   },
   "source": [
    "#### Chart 11 : Histogram of High Prices"
   ]
  },
  {
   "cell_type": "code",
   "execution_count": null,
   "metadata": {
    "id": "mAQTIvtqp1cj"
   },
   "outputs": [],
   "source": [
    "# Setting the figure size\n",
    "plt.figure(figsize=(12, 6))\n",
    "\n",
    "# Creating a histogram to visualize high prices\n",
    "sns.histplot(df['High'], bins=30, color='green', alpha=0.7, kde=True)\n",
    "\n",
    "# Setting title and labels\n",
    "plt.title('Chart 11 : Histogram of High Prices')\n",
    "plt.xlabel('High Price')\n",
    "plt.ylabel('Frequency')\n",
    "\n",
    "# Displaying the chart\n",
    "plt.show()"
   ]
  },
  {
   "cell_type": "markdown",
   "metadata": {
    "id": "X_VqEhTip1ck"
   },
   "source": [
    "#### 1. Why did I choose this particular chart?"
   ]
  },
  {
   "cell_type": "markdown",
   "metadata": {
    "id": "-vsMzt_np1ck"
   },
   "source": [
    "📊 **Histogram (High Prices)**\n",
    "\n",
    "- **Why?**\n",
    "\n",
    "    - Histograms are used to visualize the frequency distribution of a single variable.\n",
    "\n",
    "    - They help understand the spread and concentration of values (e.g., how often certain price ranges occur).\n",
    "\n",
    "- **What They Show:**\n",
    "\n",
    "    - The distribution of closing, opening, high, and low prices across the entire dataset.\n",
    "\n",
    "    - For example, a histogram of closing prices can show whether most prices are clustered around a specific range or spread out.\n",
    "\n",
    "---"
   ]
  },
  {
   "cell_type": "markdown",
   "metadata": {
    "id": "8zGJKyg5p1ck"
   },
   "source": [
    "#### 2. What are the insights found from the chart?"
   ]
  },
  {
   "cell_type": "markdown",
   "metadata": {
    "id": "ZYdMsrqVp1ck"
   },
   "source": [
    "👉 The chart is a **Histogram of Yes Bank's high prices**, showing the frequency distribution of the highest stock prices recorded over time. Here are the key insights:\n",
    "\n",
    "1. **Most Frequent High Prices (Left-Skewed Distribution):**\n",
    "\n",
    "    - The majority of high prices are below ₹50, with high frequency in the **₹0-50 range**.\n",
    "\n",
    "    - This indicates that the stock spent a significant amount of time trading at lower valuations, likely after the 2018 crash.\n",
    "\n",
    "\n",
    "\n",
    "2. **Lower Occurrence of High Prices Above ₹200:**\n",
    "\n",
    "    - The frequency of high prices **above ₹200** is significantly lower, suggesting that high valuations were rare and unsustainable.\n",
    "\n",
    "    - The peak prices **above ₹350-400** were very limited, confirming that ***Yes Bank***'s high growth phase was short-lived.\n",
    "\n",
    "\n",
    "\n",
    "3. **Bimodal Distribution (Two Peaks):**\n",
    "\n",
    "    - One peak **around ₹0-50**, representing the stock’s recent low trading range.\n",
    "\n",
    "    - Another smaller peak **between ₹250-350**, corresponding to the peak growth years (2017-2018).\n",
    "\n",
    "    - This pattern suggests a rise, peak, and crash scenario, where the stock rose rapidly, reached its highest valuations, and then sharply declined.\n",
    "\n",
    "\n",
    "\n",
    "4. **Market Sentiment & Volatility:**\n",
    "\n",
    "    - The presence of a long tail on the right suggests that higher prices were less frequent and unsustainable.\n",
    "\n",
    "    - A wide spread of prices **(₹0 to ₹400+)** indicates extreme market volatility, possibly due to speculative trading, financial instability, or governance concerns.\n",
    "\n",
    "\n",
    "---\n",
    "\n",
    "\n",
    "**Comparison with Opening & Closing Price Histograms:**\n",
    "\n",
    "- The trend mirrors the opening and closing price distributions, reinforcing the rise-peak-collapse cycle.\n",
    "\n",
    "- If high prices were significantly above opening and closing prices in certain periods, it suggests major intraday fluctuations or speculative price movements.\n",
    "\n",
    "\n",
    "---\n",
    "\n",
    "\n",
    "**Overall Insights:**\n",
    "\n",
    "- ***Yes Bank***’s stock frequently recorded low high prices, reflecting long-term underperformance.\n",
    "\n",
    "- The short-lived price peaks indicate unsustainable growth and market correction.\n",
    "\n",
    "- The histogram confirms a boom-and-bust cycle, where the stock reached high valuations briefly but later declined and stabilized at lower levels.\n",
    "\n",
    "\n",
    "---"
   ]
  },
  {
   "cell_type": "markdown",
   "metadata": {
    "id": "PVzmfK_Ep1ck"
   },
   "source": [
    "#### 3. Will the gained insights help creating a positive business impact?\n",
    "Are there any insights that lead to negative growth? Justify with specific reason."
   ]
  },
  {
   "cell_type": "markdown",
   "metadata": {
    "id": "druuKYZpp1ck"
   },
   "source": [
    "👍 **Positive Business Impact:**\n",
    "\n",
    "1. **Peak Growth & Strong Market Trust (2017-2018):**\n",
    "\n",
    "    - The secondary peak in the ₹250-350 range shows that ***Yes Bank*** was once a high-performing stock with strong investor confidence.\n",
    "\n",
    "    - The stock was considered a top banking investment option, attracting institutional and retail investors.\n",
    "\n",
    "\n",
    "\n",
    "2. **Opportunities for Business Expansion & Investment Growth:**\n",
    "\n",
    "    - The high stock price allowed ***Yes Bank*** to raise capital, expand lending operations, and strengthen its financial position.\n",
    "\n",
    "    - Investors who bought before 2015 saw significant returns, increasing market participation and trust in the bank.\n",
    "\n",
    "\n",
    "\n",
    "3. **Liquidity & Market Participation:**\n",
    "\n",
    "    - The wide price range and trading activity show that the stock was actively traded, offering liquidity and growth opportunities.\n",
    "\n",
    "    - Increased market participation meant that ***Yes Bank*** had strong financial backing for expansion plans.\n",
    "\n",
    "\n",
    "---\n",
    "\n",
    "\n",
    "👎 **Negative Growth & Business Impact:**\n",
    "\n",
    "1. **Severe Price Decline & Market Crash (2018-2020):**\n",
    "\n",
    "    - The majority of high prices are in the ₹0-50 range, meaning the stock remained at low valuations for a long period.\n",
    "\n",
    "    - This suggests a significant decline in investor trust due to financial instability, governance issues, and regulatory concerns.\n",
    "\n",
    "\n",
    "\n",
    "2. **Short-Lived High Valuation & Unsustainable Growth:**\n",
    "\n",
    "    - The low frequency of prices above ₹250 indicates that Yes Bank failed to maintain its high valuation.\n",
    "\n",
    "    - The market quickly corrected after initial optimism, leading to a steep decline in stock value.\n",
    "\n",
    "\n",
    "\n",
    "3. **High Volatility & Investor Losses:**\n",
    "\n",
    "    - The wide spread of high prices (₹0-400) indicates extreme market volatility, making it a high-risk investment.\n",
    "\n",
    "    - Investors who bought at high price levels (₹200-350) likely suffered significant losses when the stock crashed.\n",
    "\n",
    "\n",
    "\n",
    "4. **Stagnation & Weak Recovery (Post-2020):**\n",
    "\n",
    "    - The dominance of low high-price frequencies suggests Yes Bank has struggled to recover.\n",
    "\n",
    "    - The stock remains undervalued, showing ongoing challenges in regaining investor confidence and financial stability.\n",
    "\n",
    "\n",
    "---\n",
    "\n",
    "\n",
    "**Final Takeaway:**\n",
    "\n",
    "- ***Yes Bank*** followed a rise-and-fall cycle:\n",
    "\n",
    "- Strong growth (pre-2018) → Peak success (2017-2018) → Sharp decline (2018-2020) → Weak recovery (post-2020).\n",
    "\n",
    "- While the bank benefited from expansion and high investor interest, financial instability and governance failures led to its downfall.\n",
    "\n",
    "- The stock remains mostly undervalued, reflecting continued struggles in regaining market trust.\n",
    "\n",
    "\n",
    "---"
   ]
  },
  {
   "cell_type": "markdown",
   "metadata": {
    "id": "n3dbpmDWp1ck"
   },
   "source": [
    "#### Chart 12 : Histogram of Low Prices"
   ]
  },
  {
   "cell_type": "code",
   "execution_count": null,
   "metadata": {
    "id": "bwevp1tKp1ck"
   },
   "outputs": [],
   "source": [
    "# Setting the figure size\n",
    "plt.figure(figsize=(12, 6))\n",
    "\n",
    "# Creating a histogram to visualize low prices\n",
    "sns.histplot(df['Low'], bins=30, color='red', alpha=0.7, kde=True)\n",
    "\n",
    "# Setting title and labels\n",
    "plt.title('Chart 12 : Histogram of Low Prices')\n",
    "plt.xlabel('Low Price')\n",
    "plt.ylabel('Frequency')\n",
    "\n",
    "# Displaying the chart\n",
    "plt.show()"
   ]
  },
  {
   "cell_type": "markdown",
   "metadata": {
    "id": "ylSl6qgtp1ck"
   },
   "source": [
    "#### 1. Why did I choose this particular chart?"
   ]
  },
  {
   "cell_type": "markdown",
   "metadata": {
    "id": "m2xqNkiQp1ck"
   },
   "source": [
    "📊 **Histogram (Low Prices)**\n",
    "\n",
    "- **Why?**\n",
    "\n",
    "    - Histograms are used to visualize the frequency distribution of a single variable.\n",
    "\n",
    "    - They help understand the spread and concentration of values (e.g., how often certain price ranges occur).\n",
    "\n",
    "- **What They Show:**\n",
    "\n",
    "    - The distribution of closing, opening, high, and low prices across the entire dataset.\n",
    "\n",
    "    - For example, a histogram of closing prices can show whether most prices are clustered around a specific range or spread out.\n",
    "\n",
    "\n",
    "---"
   ]
  },
  {
   "cell_type": "markdown",
   "metadata": {
    "id": "ZWILFDl5p1ck"
   },
   "source": [
    "#### 2. What are the insights found from the chart?"
   ]
  },
  {
   "cell_type": "markdown",
   "metadata": {
    "id": "x-lUsV2mp1ck"
   },
   "source": [
    "👉 The chart is a **Histogram of Yes Bank's low prices**, showing the frequency distribution of the lowest stock prices recorded over time. Here are the key insights:\n",
    "\n",
    "1. **Most Frequent Low Prices (Left-Skewed Distribution):**\n",
    "\n",
    "    - The majority of low prices are **below ₹50**, with high frequency in the **₹0-50 range**.\n",
    "\n",
    "    - This indicates that the stock spent a significant amount of time trading at low valuations, especially after the 2018 crash.\n",
    "\n",
    "\n",
    "\n",
    "2. **Lower Occurrence of High Low Prices:**\n",
    "\n",
    "    - The frequency of low prices **above ₹200** is significantly lower, meaning that the stock rarely maintained high valuations.\n",
    "\n",
    "    - The peak prices **above ₹300** were rare, confirming that ***Yes Bank***’s strong growth phase was short-lived.\n",
    "\n",
    "\n",
    "\n",
    "3. **Bimodal Distribution (Two Peaks):**\n",
    "\n",
    "    - One peak **around ₹0-50**, representing the stock’s recent low trading range.\n",
    "\n",
    "    - Another smaller peak **between ₹250-300**, corresponding to the high-growth years (2017-2018).\n",
    "\n",
    "    - This suggests a rise, peak, and crash cycle, where the stock rose rapidly, reached its highest valuations, and then sharply declined.\n",
    "\n",
    "\n",
    "\n",
    "4. **Market Sentiment & Volatility:**\n",
    "\n",
    "    - The presence of a long tail on the right suggests that higher low prices were unsustainable.\n",
    "\n",
    "    - A wide spread of prices **(₹0 to ₹350)** indicates extreme market volatility, likely caused by speculative trading, financial instability, or governance concerns.\n",
    "\n",
    "\n",
    "---\n",
    "\n",
    "\n",
    "**Comparison with Opening & Closing Price Histograms:**\n",
    "\n",
    "- The trend mirrors the opening and closing price distributions, confirming the rise-peak-collapse cycle.\n",
    "\n",
    "- The lower frequency of high low prices suggests that the stock’s corrections were deep, meaning investors frequently experienced significant losses.\n",
    "\n",
    "\n",
    "---\n",
    "\n",
    "\n",
    "**Overall Insights:**\n",
    "\n",
    "- ***Yes Bank***’s stock frequently recorded low prices, reflecting weak long-term performance.\n",
    "\n",
    "- The short-lived price peaks indicate unsustainable growth and a rapid market correction.\n",
    "\n",
    "- The histogram confirms a boom-and-bust cycle, where the stock reached high valuations briefly but later declined and stabilized at lower levels.\n",
    "\n",
    "\n",
    "---"
   ]
  },
  {
   "cell_type": "markdown",
   "metadata": {
    "id": "M7G43BXep1ck"
   },
   "source": [
    "#### 3. Will the gained insights help creating a positive business impact?\n",
    "Are there any insights that lead to negative growth? Justify with specific reason."
   ]
  },
  {
   "cell_type": "markdown",
   "metadata": {
    "id": "5wwDJXsLp1cl"
   },
   "source": [
    "👍 **Positive Business Impact:**\n",
    "\n",
    "1. **Strong Growth & Market Trust (2017-2018):**\n",
    "\n",
    "    - The secondary peak in the ₹250-300 range shows that ***Yes Bank*** once had high investor confidence and strong financial performance.\n",
    "\n",
    "    - The stock was a top-performing banking stock, attracting both institutional and retail investors.\n",
    "\n",
    "\n",
    "\n",
    "2. **Business Expansion & Investment Growth:**\n",
    "\n",
    "    - The high stock price allowed ***Yes Bank*** to raise capital, expand lending operations, and strengthen its financial position.\n",
    "\n",
    "    - Investors who entered the market before 2015 saw significant returns, increasing trust and market participation.\n",
    "\n",
    "\n",
    "\n",
    "3. **Liquidity & Market Participation:**\n",
    "\n",
    "    - The wide price distribution and trading activity show that the stock was actively traded, leading to high liquidity and strong investor engagement.\n",
    "\n",
    "    - The bank’s stock was a preferred choice for short-term traders and institutional investors, making it a key player in the banking sector.\n",
    "\n",
    "\n",
    "---\n",
    "\n",
    "\n",
    "👎 **Negative Growth & Business Impact:**\n",
    "\n",
    "1. **Severe Price Decline & Market Crash (2018-2020):**\n",
    "\n",
    "    - The majority of low prices are in the ₹0-50 range, meaning the stock remained at low valuations for a long period.\n",
    "\n",
    "    - This suggests a massive decline in investor confidence due to financial instability, governance issues, and regulatory concerns.\n",
    "\n",
    "\n",
    "\n",
    "2. **Short-Lived High Valuation & Unsustainable Growth:**\n",
    "\n",
    "    - The low frequency of prices above ₹250 indicates that Yes Bank failed to maintain its high valuation.\n",
    "\n",
    "    - The market quickly corrected after initial optimism, leading to a steep decline in stock value.\n",
    "\n",
    "\n",
    "\n",
    "3. **High Volatility & Investor Losses:**\n",
    "\n",
    "    - The wide spread of low prices (₹0-350) highlights extreme market volatility, making it a high-risk investment.\n",
    "\n",
    "    - Investors who bought at high price levels (₹200-350) likely suffered significant losses when the stock crashed.\n",
    "\n",
    "\n",
    "\n",
    "4. **Stagnation & Weak Recovery (Post-2020):**\n",
    "\n",
    "    - The dominance of low low-price frequencies suggests Yes Bank has struggled to recover.\n",
    "\n",
    "    - The stock remains undervalued, reflecting ongoing challenges in regaining investor confidence and financial stability.\n",
    "\n",
    "\n",
    "---\n",
    "\n",
    "\n",
    "**Final Takeaway:**\n",
    "\n",
    "- ***Yes Bank***’s stock followed a rise-and-fall cycle:\n",
    "\n",
    "- Strong growth (pre-2018) → Peak success (2017-2018) → Sharp decline (2018-2020) → Weak recovery (post-2020).\n",
    "\n",
    "- While the bank benefited from expansion and high investor interest, financial instability and governance failures led to its downfall.\n",
    "\n",
    "- The stock remains mostly undervalued, reflecting continued struggles in regaining market trust.\n",
    "\n",
    "\n",
    "---"
   ]
  },
  {
   "cell_type": "markdown",
   "metadata": {
    "id": "Ag9LCva-p1cl"
   },
   "source": [
    "#### Chart 13 : Scatter Plot of Open vs Close Prices"
   ]
  },
  {
   "cell_type": "code",
   "execution_count": null,
   "metadata": {
    "id": "EUfxeq9-p1cl"
   },
   "outputs": [],
   "source": [
    "# Setting the figure size\n",
    "plt.figure(figsize=(12, 6))\n",
    "\n",
    "# Creating a scatterplot to visualize Open vs Close Prices\n",
    "sns.scatterplot(x=df['Open'], y=df['Close'], alpha=0.6)\n",
    "\n",
    "# Setting title and labels\n",
    "plt.title('Chart 13 : Scatter Plot of Open vs Close Prices')\n",
    "plt.xlabel('Open Price')\n",
    "plt.ylabel('Close Price')\n",
    "\n",
    "# Displaying the chart\n",
    "plt.show()"
   ]
  },
  {
   "cell_type": "markdown",
   "metadata": {
    "id": "E6MkPsBcp1cl"
   },
   "source": [
    "#### 1. Why did I choose this particular chart?"
   ]
  },
  {
   "cell_type": "markdown",
   "metadata": {
    "id": "V22bRsFWp1cl"
   },
   "source": [
    "📊 **Scatter Plot (Open vs Close Prices)**\n",
    "\n",
    "- **Why?**\n",
    "\n",
    "    - Scatter plots are used to explore relationships between two variables.\n",
    "\n",
    "    - They help identify correlations or patterns between pairs of variables (e.g., open vs. close prices).\n",
    "\n",
    "- **What They Show:**\n",
    "\n",
    "    - The relationship between opening and closing prices (e.g., whether higher opening prices lead to higher closing prices).\n",
    "\n",
    "    - The relationship between high and low prices (e.g., whether stocks with higher highs also have higher lows).\n",
    "\n",
    "---"
   ]
  },
  {
   "cell_type": "markdown",
   "metadata": {
    "id": "2cELzS2fp1cl"
   },
   "source": [
    "#### 2. What are the insights found from the chart?"
   ]
  },
  {
   "cell_type": "markdown",
   "metadata": {
    "id": "ozQPc2_Ip1cl"
   },
   "source": [
    "👉 The chart is a **Scatter plot of opening prices vs. closing prices for Yes Bank**, showing the relationship between these two variables. Here are the key insights:\n",
    "\n",
    "1. **Strong Positive Correlation:**\n",
    "\n",
    "    - The data points form a diagonal pattern, indicating a strong correlation between the opening and closing prices.\n",
    "\n",
    "    - This means that on most days, the closing price was close to the opening price, reflecting low intraday volatility in general.\n",
    "\n",
    "\n",
    "\n",
    "2. **Higher Price Range Shows More Variation:**\n",
    "\n",
    "    - At higher price levels (above ₹200), there is more spread in data points, meaning greater intraday fluctuations.\n",
    "\n",
    "    - This suggests that during peak periods (2017-2018), the stock was more volatile, likely due to speculation or rapid market changes.\n",
    "\n",
    "\n",
    "\n",
    "3. **Tighter Clustering at Lower Price Levels:**\n",
    "\n",
    "    - The lower price range (₹0-100) shows a compact distribution, meaning the stock had less price movement during its lower valuation periods.\n",
    "\n",
    "    - This suggests that after the price crash (post-2018), the stock stabilized at lower levels with less frequent large intraday swings.\n",
    "\n",
    "\n",
    "\n",
    "4. **Market Stability in Different Phases:**\n",
    "\n",
    "    - The early growth phase (pre-2015) and post-crash phase (post-2020) show a tighter relationship between opening and closing prices, suggesting lower volatility.\n",
    "\n",
    "    - The high-growth phase (2016-2018) shows more variation, indicating increased trading activity and speculation.\n",
    "\n",
    "\n",
    "---\n",
    "\n",
    "\n",
    "**Overall Insights:**\n",
    "\n",
    "- ***Yes Bank***’s stock followed a strong correlation between opening and closing prices, with higher volatility during its peak growth phase.\n",
    "\n",
    "- During the post-crash period, the stock showed lower fluctuations, indicating stabilization at a lower valuation.\n",
    "\n",
    "- Intraday price swings were higher during periods of high investor activity, suggesting speculative trading in the bank's peak years.\n",
    "\n",
    "\n",
    "---"
   ]
  },
  {
   "cell_type": "markdown",
   "metadata": {
    "id": "3MPXvC8up1cl"
   },
   "source": [
    "#### 3. Will the gained insights help creating a positive business impact?\n",
    "Are there any insights that lead to negative growth? Justify with specific reason."
   ]
  },
  {
   "cell_type": "markdown",
   "metadata": {
    "id": "GL8l1tdLp1cl"
   },
   "source": [
    "👍 **Positive Business Impact:**\n",
    "\n",
    "1. **Consistent Market Behavior & Stability (Pre-2018 & Post-2020):**\n",
    "\n",
    "    - The strong correlation between opening and closing prices suggests that the stock followed a stable trading pattern, making it predictable for investors.\n",
    "\n",
    "    - Less intraday fluctuation during low-price periods indicates that the stock became less risky and more stable after the decline.\n",
    "\n",
    "\n",
    "\n",
    "2. **High Liquidity & Strong Market Interest (2016-2018 Peak Phase):**\n",
    "\n",
    "    - The wider spread at higher price levels (above ₹200) shows that the stock experienced active trading and liquidity, making it attractive to investors.\n",
    "\n",
    "    - This period likely saw high institutional investment, strong business growth, and expansion opportunities for Yes Bank.\n",
    "\n",
    "\n",
    "\n",
    "3. **Opportunities for Investors & Growth:**\n",
    "\n",
    "    - Investors who entered during the early growth phase (before 2015) could have benefited from stable price movement and strong returns as the stock surged.\n",
    "\n",
    "    - The bank had opportunities to raise capital, expand operations, and strengthen its market position during high-growth years.\n",
    "\n",
    "\n",
    "---\n",
    "\n",
    "\n",
    "👎 **Negative Growth & Business Impact:**\n",
    "\n",
    "1. **High Volatility & Market Uncertainty During Peak Years (2016-2018):**\n",
    "\n",
    "    - The greater spread in prices at higher levels suggests that the stock was more volatile, likely due to speculation, sudden market reactions, or financial instability.\n",
    "\n",
    "    - Large intraday swings indicate potential investor uncertainty, making it risky for traders and long-term investors.\n",
    "\n",
    "\n",
    "\n",
    "2. **Financial Instability & Sharp Decline Post-2018:**\n",
    "\n",
    "    - The stock’s high volatility at peak levels suggests possible governance issues, rising NPAs (bad loans), or overvaluation.\n",
    "\n",
    "    - The subsequent crash meant that investors who bought at high prices (₹250-350) suffered major losses.\n",
    "\n",
    "\n",
    "\n",
    "3. **Limited Recovery & Weak Market Confidence (Post-2020):**\n",
    "\n",
    "    - The lower price levels show a strong clustering, indicating that the stock failed to regain its earlier highs.\n",
    "\n",
    "    - The bank struggled with investor trust, regulatory interventions, and business restructuring efforts to recover from its downfall.\n",
    "\n",
    "\n",
    "---\n",
    "\n",
    "\n",
    "**Final Takeaway:**\n",
    "\n",
    "- ***Yes Bank***’s stock followed a predictable trading pattern in early years, surged with high volatility during its peak, and later stabilized at lower levels after the crash.\n",
    "\n",
    "- Strong growth (pre-2018) → Peak success (2017-2018) → High volatility & speculation → Sharp decline (2018-2020) → Stabilization (post-2020).\n",
    "\n",
    "- While the bank benefited from expansion and market confidence, financial instability led to a decline, and recovery has been slow.\n",
    "\n",
    "\n",
    "---"
   ]
  },
  {
   "cell_type": "markdown",
   "metadata": {
    "id": "V-m_M_-MWXmx"
   },
   "source": [
    "#### Chart 14 : Scatter Plot of High vs Low Prices"
   ]
  },
  {
   "cell_type": "code",
   "execution_count": null,
   "metadata": {
    "id": "8TdCC1dDWXmx"
   },
   "outputs": [],
   "source": [
    "# Setting the figure size\n",
    "plt.figure(figsize=(12, 6))\n",
    "\n",
    "# Creating a scatterplot to visualize High vs Low Prices\n",
    "sns.scatterplot(x=df['High'], y=df['Low'], alpha=0.6)\n",
    "\n",
    "# Setting title and labels\n",
    "plt.title('Chart 14 : Scatter Plot of High vs Low Prices')\n",
    "plt.xlabel('High Price')\n",
    "plt.ylabel('Low Price')\n",
    "\n",
    "# Displaying the chart\n",
    "plt.show()"
   ]
  },
  {
   "cell_type": "markdown",
   "metadata": {
    "id": "mRbZayYaWXmx"
   },
   "source": [
    "#### 1. Why did I choose this particular chart?"
   ]
  },
  {
   "cell_type": "markdown",
   "metadata": {
    "id": "AkGHgsfZWXmx"
   },
   "source": [
    "📊 **Scatter Plot (High vs Low Prices)**\n",
    "\n",
    "- **Why?**\n",
    "\n",
    "    - Scatter plots are used to explore relationships between two variables.\n",
    "\n",
    "    - They help identify correlations or patterns between pairs of variables (e.g., open vs. close prices).\n",
    "\n",
    "- **What They Show:**\n",
    "\n",
    "    - The relationship between opening and closing prices (e.g., whether higher opening prices lead to higher closing prices).\n",
    "\n",
    "    - The relationship between high and low prices (e.g., whether stocks with higher highs also have higher lows).\n",
    "\n",
    "---"
   ]
  },
  {
   "cell_type": "markdown",
   "metadata": {
    "id": "dsuL9OsAWXmx"
   },
   "source": [
    "#### 2. What are the insights found from the chart?"
   ]
  },
  {
   "cell_type": "markdown",
   "metadata": {
    "id": "X4j0zvF8WXmx"
   },
   "source": [
    "👉 The chart is a **Scatter plot of high prices vs. low prices for Yes Bank**, showing the relationship between the highest and lowest prices recorded each day. Here are the key insights:\n",
    "\n",
    "1. **Strong Positive Correlation:**\n",
    "\n",
    "    - The data points form a diagonal pattern, indicating a strong correlation between high and low prices.\n",
    "\n",
    "    - This means that on most days, the difference between the high and low prices was relatively small, showing low intraday volatility in general.\n",
    "\n",
    "\n",
    "\n",
    "2. **Higher Price Levels Show More Variability:**\n",
    "\n",
    "    - At higher price levels (above ₹200), the data points are more scattered, meaning greater intraday fluctuations.\n",
    "\n",
    "    - This suggests that during peak years (2017-2018), the stock experienced higher volatility due to speculation, market reactions, or financial instability.\n",
    "\n",
    "\n",
    "\n",
    "3. **Tighter Clustering at Lower Price Levels:**\n",
    "\n",
    "    - The lower price range (₹0-100) shows a more compact distribution, meaning that the stock had less price movement during its lower valuation periods.\n",
    "\n",
    "    - This indicates that after the price crash (post-2018), the stock stabilized at lower levels with fewer large daily fluctuations.\n",
    "\n",
    "\n",
    "\n",
    "4. **Market Stability in Different Phases:**\n",
    "\n",
    "    - The early growth phase (pre-2015) and post-crash phase (post-2020) show a tighter relationship between high and low prices, suggesting lower volatility.\n",
    "\n",
    "    - The high-growth phase (2016-2018) shows more variation, indicating increased trading activity and market speculation.\n",
    "\n",
    "\n",
    "---\n",
    "\n",
    "\n",
    "**Overall Insights:**\n",
    "\n",
    "- ***Yes Bank***’s stock showed a strong relationship between high and low prices, with higher volatility during its peak growth phase.\n",
    "\n",
    "- During the post-crash period, the stock showed lower fluctuations, indicating stabilization at a lower valuation.\n",
    "\n",
    "- Intraday price swings were higher during periods of high investor activity, suggesting speculative trading in the bank's peak years.\n",
    "\n",
    "\n",
    "---"
   ]
  },
  {
   "cell_type": "markdown",
   "metadata": {
    "id": "DUD6nA-6WXmx"
   },
   "source": [
    "#### 3. Will the gained insights help creating a positive business impact?\n",
    "Are there any insights that lead to negative growth? Justify with specific reason."
   ]
  },
  {
   "cell_type": "markdown",
   "metadata": {
    "id": "QZGPal7zWXmx"
   },
   "source": [
    "👍 **Positive Business Impact:**\n",
    "\n",
    "1. **Consistent Market Behavior & Stability (Pre-2018 & Post-2020):**\n",
    "\n",
    "    - The strong correlation between high and low prices suggests that the stock followed a stable trading pattern, making it predictable for investors.\n",
    "\n",
    "    - Less intraday fluctuation during low-price periods indicates that the stock became less risky and more stable after the decline.\n",
    "\n",
    "\n",
    "\n",
    "2. **High Liquidity & Strong Market Interest (2016-2018 Peak Phase):**\n",
    "\n",
    "    - The wider spread at higher price levels (above ₹200) shows that the stock experienced active trading and liquidity, making it attractive to investors.\n",
    "\n",
    "    - This period likely saw high institutional investment, strong business growth, and expansion opportunities for Yes Bank.\n",
    "\n",
    "\n",
    "\n",
    "3. **Opportunities for Investors & Growth:**\n",
    "\n",
    "    - Investors who entered during the early growth phase (before 2015) could have benefited from stable price movement and strong returns as the stock surged.\n",
    "\n",
    "    - The bank had opportunities to raise capital, expand operations, and strengthen its market position during high-growth years.\n",
    "\n",
    "\n",
    "---\n",
    "\n",
    "\n",
    "👎 **Negative Growth & Business Impact:**\n",
    "\n",
    "1. **High Volatility & Market Uncertainty During Peak Years (2016-2018):**\n",
    "\n",
    "    - The greater spread in prices at higher levels suggests that the stock was more volatile, likely due to speculation, sudden market reactions, or financial instability.\n",
    "\n",
    "    - Large intraday swings indicate potential investor uncertainty, making it risky for traders and long-term investors.\n",
    "\n",
    "\n",
    "\n",
    "2. **Financial Instability & Sharp Decline Post-2018:**\n",
    "\n",
    "    - The stock’s high volatility at peak levels suggests possible governance issues, rising NPAs (bad loans), or overvaluation.\n",
    "\n",
    "    - The subsequent crash meant that investors who bought at high prices (₹250-350) suffered major losses.\n",
    "\n",
    "\n",
    "\n",
    "3. **Limited Recovery & Weak Market Confidence (Post-2020):**\n",
    "\n",
    "    - The lower price levels show a strong clustering, indicating that the stock failed to regain its earlier highs.\n",
    "\n",
    "    - The bank struggled with investor trust, regulatory interventions, and business restructuring efforts to recover from its downfall.\n",
    "\n",
    "\n",
    "---\n",
    "\n",
    "\n",
    "**Final Takeaway:**\n",
    "\n",
    "- ***Yes Bank***’s stock followed a predictable trading pattern in early years, surged with high volatility during its peak, and later stabilized at lower levels after the crash.\n",
    "\n",
    "- Strong growth (pre-2018) → Peak success (2017-2018) → High volatility & speculation → Sharp decline (2018-2020) → Stabilization (post-2020).\n",
    "\n",
    "- While the bank benefited from expansion and market confidence, financial instability led to a decline, and recovery has been slow.\n",
    "\n",
    "\n",
    "---"
   ]
  },
  {
   "cell_type": "markdown",
   "metadata": {
    "id": "NC_X3p0fY2L0"
   },
   "source": [
    "#### Chart 15 : Correlation Heatmap"
   ]
  },
  {
   "cell_type": "code",
   "execution_count": null,
   "metadata": {
    "id": "xyC9zolEZNRQ"
   },
   "outputs": [],
   "source": [
    "# Setting the figure size\n",
    "plt.figure(figsize=(10, 8))\n",
    "\n",
    "# Creating a heatmap to visualize correlation matrix\n",
    "corr = df[['Open', 'High', 'Low', 'Close']].corr()\n",
    "sns.heatmap(corr, annot=True, cmap='coolwarm')\n",
    "\n",
    "# Setting the Title\n",
    "plt.title('Chart 15 : Heatmap of Correlation Matrix')\n",
    "\n",
    "# Displaying the Chart\n",
    "plt.show()"
   ]
  },
  {
   "cell_type": "markdown",
   "metadata": {
    "id": "UV0SzAkaZNRQ"
   },
   "source": [
    "#### 1. Why did I choose this particular chart?"
   ]
  },
  {
   "cell_type": "markdown",
   "metadata": {
    "id": "DVPuT8LYZNRQ"
   },
   "source": [
    "📊 **Heatmap of Correlation Matrix**\n",
    "\n",
    "- **Why?**\n",
    "\n",
    "    - A heatmap is a compact way to visualize the correlation between multiple variables.\n",
    "\n",
    "    - It helps identify strong positive or negative relationships between variables.\n",
    "\n",
    "- **What It Shows:**\n",
    "\n",
    "    - The correlation between opening, high, low, and closing prices.\n",
    "\n",
    "    - For example, it can show whether high prices are strongly correlated with closing prices.\n",
    "\n",
    "---"
   ]
  },
  {
   "cell_type": "markdown",
   "metadata": {
    "id": "YPEH6qLeZNRQ"
   },
   "source": [
    "#### 2. What are the insights found from the chart?"
   ]
  },
  {
   "cell_type": "markdown",
   "metadata": {
    "id": "bfSqtnDqZNRR"
   },
   "source": [
    "👉 The chart is a **Heatmap of the correlation matrix**, showing the relationships between Open, High, Low, and Close prices of ***Yes Bank*** stock. Here are the key insights:\n",
    "\n",
    "1. **Strong Positive Correlation Between All Price Points:**\n",
    "\n",
    "    - All values are close to 1, indicating a very strong correlation between Open, High, Low, and Close prices.\n",
    "\n",
    "    - This means that when the opening price increases, the closing price also tends to increase, and similarly for high and low prices.\n",
    "\n",
    "\n",
    "\n",
    "2. **Highest Correlation (High vs Close & Low vs Close) ~ 0.99-1:**\n",
    "\n",
    "    - High and Close prices have nearly perfect correlation (0.99), suggesting that the stock often closes near its daily high.\n",
    "\n",
    "    - Low and Close prices also have a strong correlation (~1.00), meaning closing prices tend to remain close to daily lows on certain days.\n",
    "\n",
    "\n",
    "\n",
    "3. **Slightly Lower Correlation for Open Prices (~0.98-0.99):**\n",
    "\n",
    "    - The Open price has a slightly lower correlation with Low and Close prices (~0.98), meaning that there are minor intraday variations but still a very strong relationship.\n",
    "\n",
    "    - This could indicate small gaps between the opening and closing prices on some trading days due to market fluctuations.\n",
    "\n",
    "\n",
    "\n",
    "4. **Market Behavior & Price Trends:**\n",
    "\n",
    "    - Since all values are close to 1, it suggests that ***Yes Bank***’s stock followed a predictable intraday pattern.\n",
    "\n",
    "    - Low volatility between opening and closing prices means that the stock was less prone to major intraday swings on most days.\n",
    "\n",
    "\n",
    "---\n",
    "\n",
    "\n",
    "**Overall Insights:**\n",
    "\n",
    "- ***Yes Bank***’s stock prices (Open, High, Low, Close) move in sync, showing a very strong correlation.\n",
    "\n",
    "- The high correlation between High and Close prices suggests that the stock often closes near its highest point of the day.\n",
    "\n",
    "- The slightly lower correlation of Open prices indicates some intraday price fluctuations but no major unpredictable movements.\n",
    "\n",
    "\n",
    "---"
   ]
  },
  {
   "cell_type": "markdown",
   "metadata": {
    "id": "q29F0dvdveiT"
   },
   "source": [
    "#### Chart 16 : Pair Plot"
   ]
  },
  {
   "cell_type": "code",
   "execution_count": null,
   "metadata": {
    "id": "o58-TEIhveiU"
   },
   "outputs": [],
   "source": [
    "# Selecting the relevant columns for pair plotting\n",
    "columns_to_plot = ['Open', 'High', 'Low', 'Close']\n",
    "\n",
    "# Creating a pair plot\n",
    "sns.pairplot(df[columns_to_plot])\n",
    "\n",
    "# Adding the title\n",
    "plt.suptitle('Chart 16: Pair Plot', y=1.02)\n",
    "\n",
    "# Displaying the plot\n",
    "plt.show()"
   ]
  },
  {
   "cell_type": "markdown",
   "metadata": {
    "id": "EXh0U9oCveiU"
   },
   "source": [
    "#### 1. Why did I choose this particular chart?"
   ]
  },
  {
   "cell_type": "markdown",
   "metadata": {
    "id": "eMmPjTByveiU"
   },
   "source": [
    "📊 **Pair Plot:**\n",
    "\n",
    "📌 Why?\n",
    "\n",
    "- Provides pairwise visualizations of numerical relationships.\n",
    "\n",
    "- Helps in spotting trends and correlations across multiple variables.\n",
    "\n",
    "- Useful for machine learning and data modeling.\n",
    "\n",
    "---"
   ]
  },
  {
   "cell_type": "markdown",
   "metadata": {
    "id": "22aHeOlLveiV"
   },
   "source": [
    "#### 2. What are the insights found from the chart?"
   ]
  },
  {
   "cell_type": "markdown",
   "metadata": {
    "id": "uPQ8RGwHveiV"
   },
   "source": [
    "👉 The chart is a **Pair plot**, showing the relationships between **Open, High, Low, and Close prices** of ***Yes Bank*** stock. It provides both **scatter plots (to visualize correlations)** and **histograms (to understand the distribution of each variable)**.\n",
    "\n",
    "\n",
    "1. **Strong Linear Relationship Between All Variables:**\n",
    "\n",
    "    - The scatter plots form clear diagonal patterns, indicating a strong correlation between **Open, High, Low, and Close prices**.\n",
    "\n",
    "    - This confirms that when one price metric (e.g., Open) increases, the others (e.g., Close, High, Low) also increase proportionally.\n",
    "\n",
    "\n",
    "\n",
    "2. **Histogram Analysis (Distribution of Prices):**\n",
    "\n",
    "    - The histograms show that most stock prices are concentrated in the lower range (below ₹100), indicating that the stock spent a significant amount of time at low valuations.\n",
    "\n",
    "    - There are fewer instances of prices above ₹200-300, confirming that ***Yes Bank***’s high-growth phase was short-lived.\n",
    "\n",
    "\n",
    "\n",
    "3. **High Correlation Suggests Predictable Intraday Price Movements:**\n",
    "\n",
    "    - The scatter plots between High vs. Low, Open vs. Close, and other combinations show a nearly perfect linear trend.\n",
    "\n",
    "    - This suggests that intraday price movements were relatively stable, meaning there were fewer unexpected price swings on most days.\n",
    "\n",
    "\n",
    "\n",
    "4. **Market Behavior in Different Phases:**\n",
    "\n",
    "    - During low-price periods (post-2018), price movements were stable and predictable.\n",
    "\n",
    "    - During peak periods (2017-2018), the stock saw more variation, as reflected in the wider spread of points at higher price levels.\n",
    "\n",
    "\n",
    "---\n",
    "\n",
    "\n",
    "**Overall Insights:**\n",
    "\n",
    "- ***Yes Bank***’s stock prices (Open, High, Low, Close) move together in a highly predictable manner.\n",
    "\n",
    "- The stock spent most of its time at lower valuations, with only brief periods of high prices.\n",
    "\n",
    "- There was low intraday volatility on most days, except during high-growth phases where price movements were more spread out.\n",
    "\n",
    "\n",
    "---"
   ]
  },
  {
   "cell_type": "markdown",
   "metadata": {
    "id": "JcMwzZxoAimU"
   },
   "source": [
    "## **5. Solution to Business Objective(s)**"
   ]
  },
  {
   "cell_type": "markdown",
   "metadata": {
    "id": "pASKb0qOza21"
   },
   "source": [
    "The comprehensive analysis of ***Yes Bank***'s stock prices from **July 2005 to November 2020** provides valuable insights into **market behavior, volatility, risk assessment, and investment opportunities**. Below is a data-driven solution aligned with the business objectives outlined.\n",
    "\n",
    "---\n",
    "\n",
    "**1. Understanding Stock Price Trends**\n",
    "\n",
    "**Solution:**\n",
    "\n",
    "- The stock followed a **growth-peak-decline-stabilization cycle:**\n",
    "\n",
    "    - **2005-2015:** Gradual and steady growth, showing investor confidence and business expansion.\n",
    "\n",
    "    - **2016-2018:** Rapid price surge, peaking above ₹350, driven by strong earnings and market trust.\n",
    "\n",
    "    - **2018-2020:** Sharp decline, reflecting financial instability, governance issues, and regulatory interventions.\n",
    "\n",
    "    - **Post-2020:** Stabilization at a lower price range, indicating a slow recovery process.\n",
    "\n",
    "\n",
    "- **Bullish trends (growth phases)** were observed **before 2018**, while **bearish trends (decline phases)** dominated **after 2018**.\n",
    "\n",
    "- **Seasonal Patterns:** No strong seasonal patterns were found, but major price movements correlated with financial events.\n",
    "\n",
    "\n",
    "---\n",
    "\n",
    "\n",
    "**2. Analyzing Stock Volatility and Risk**\n",
    "\n",
    "**Solution:**\n",
    "\n",
    "- **Volatility Analysis:**\n",
    "\n",
    "    - **High volatility (2017-2019):** Stock experienced extreme fluctuations, with large gaps between high and low prices.\n",
    "\n",
    "    - **Low volatility (2005-2015 & post-2020):** More stable price movements, reflecting less speculative activity.\n",
    "\n",
    "\n",
    "- **Risk Assessment:**\n",
    "\n",
    "    - Investors who entered at high price levels (above ₹250) in 2018 faced **significant losses due to a steep decline**.\n",
    "\n",
    "    - Low prices post-2020 suggest **a less risky but weaker growth potential** for long-term investors.\n",
    "\n",
    "\n",
    "- **Market Impact:**\n",
    "\n",
    "    - External events like regulatory actions and economic downturns directly influenced price stability.\n",
    "\n",
    "    - The **correlation matrix and scatter plots** confirm that intraday price fluctuations remained predictable despite long-term volatility.\n",
    "\n",
    "\n",
    "---\n",
    "\n",
    "\n",
    "**3. Supporting Investment and Trading Decisions**\n",
    "\n",
    "**Solution:**\n",
    "\n",
    "- **Investment Profitability:**\n",
    "\n",
    "    - Investors who bought ***Yes Bank*** stock **before 2015 saw strong gains** if they exited during the 2017-2018 peak.\n",
    "\n",
    "    - Investors who entered **after 2018 experienced losses**, highlighting the importance of risk management.\n",
    "\n",
    "\n",
    "- **Trading Opportunities:**\n",
    "\n",
    "    - **Buying Opportunities:** Stocks trading below ₹50 post-2020 showed stability, making them suitable for **low-risk, long-term investment strategies**.\n",
    "\n",
    "    - **Selling Opportunities:** Stocks reaching previous high points (₹300-350 in 2018) were **ideal exit points for short-term traders**.\n",
    "\n",
    "\n",
    "- **Risk-Reward Analysis:**\n",
    "\n",
    "    - The **sharp price fluctuations in 2019 suggest high-risk trading environments**.\n",
    "\n",
    "    - **Post-2020, the stock showed lower risk but also lower potential for high returns**.\n",
    "\n",
    "\n",
    "---\n",
    "\n",
    "\n",
    "**4. Evaluating Financial Market Events Impact**\n",
    "\n",
    "**Solution:**\n",
    "\n",
    "- **Stock reactions to major financial events:**\n",
    "\n",
    "    - **Regulatory Changes (2018-2020):** Governance issues and RBI interventions triggered a major decline.\n",
    "\n",
    "    - **Banking Sector Crisis:** Rising **Non-Performing Assets (NPAs)** impacted investor confidence.\n",
    "\n",
    "    - **Economic Downturns:** The overall market slowdown post-2018 further weakened ***Yes Bank***’s valuation.\n",
    "\n",
    "\n",
    "- **Correlation Analysis:**\n",
    "\n",
    "    - The **heatmap and scatter plots confirm that external market conditions had a strong impact on stock volatility**.\n",
    "\n",
    "    - **High price fluctuations post-2018 aligned with regulatory scrutiny and financial instability**.\n",
    "\n",
    "\n",
    "---\n",
    "\n",
    "\n",
    "**5. Providing Data-Driven Insights for Financial Analysts**\n",
    "\n",
    "**Solution:**\n",
    "\n",
    "- **Benchmark for Future Trends:**\n",
    "\n",
    "    - The historical data offers a **valuable reference for predicting stock movements** in similar financial conditions.\n",
    "\n",
    "\n",
    "- **Predictive Modeling & Forecasting:**\n",
    "\n",
    "    - The **strong correlation between open, high, low, and close prices** suggests that **machine learning models can be used to forecast short-term price movements**.\n",
    "\n",
    "    - The **volatility trends** and **market reactions** serve as key indicators for future stock behavior analysis.\n",
    "\n",
    "\n",
    "- **Investment Decision Framework:**\n",
    "\n",
    "    - Financial analysts can **use this study as a case for evaluating risk factors** in banking stocks.\n",
    "\n",
    "    - **Correlation heatmaps and scatter plots** provide a **quantitative approach** to assessing price stability.\n",
    "\n",
    "\n",
    "---\n",
    "\n",
    "\n",
    "**Final Conclusion**\n",
    "\n",
    "The **data-driven insights** from the analysis provide investors, traders, and financial analysts with a **comprehensive understanding of Yes Bank’s stock performance**.\n",
    "\n",
    "✅ **Investors** can use this data to identify **historical profit trends, risk levels, and market stability factors**.\n",
    "\n",
    "✅ **Traders** can leverage **volatility patterns, correlation matrices, and risk-reward insights** for better decision-making.\n",
    "\n",
    "✅ **Financial analysts** can integrate these insights into **predictive modeling and risk assessment frameworks**.\n",
    "\n",
    "\n",
    "---"
   ]
  },
  {
   "cell_type": "markdown",
   "metadata": {
    "id": "gCX9965dhzqZ"
   },
   "source": [
    "# **Conclusion**"
   ]
  },
  {
   "cell_type": "markdown",
   "metadata": {
    "id": "Fjb1IsQkh3yE"
   },
   "source": [
    "This project provided an in-depth analysis of **Yes Bank's stock price movements** from **July 2005 to November 2020**, uncovering key insights into **trends, volatility, risk, investment opportunities, and market influences**. By leveraging various statistical and visualization techniques, we derived **data-driven conclusions** that support informed financial decision-making.\n",
    "\n",
    "\n",
    "---\n",
    "\n",
    "\n",
    "**Key Takeaways:**\n",
    "\n",
    "1. **Stock Price Trends & Market Phases**\n",
    "\n",
    "    - **2005-2015:** Gradual growth with stable investor confidence.\n",
    "\n",
    "    - **2016-2018:** Rapid price surge, peaking above ₹350, reflecting strong market optimism.\n",
    "\n",
    "    - **2018-2020:** Sharp decline due to **financial instability, governance failures, and regulatory interventions**.\n",
    "\n",
    "    - **Post-2020:** Stock stabilized at lower levels, indicating **slow recovery and weak investor sentiment**.\n",
    "\n",
    "\n",
    "\n",
    "2. **Stock Volatility & Risk Assessment**\n",
    "\n",
    "    - **High volatility (2017-2019):** Increased speculation and extreme price swings made trading riskier.\n",
    "\n",
    "    - **Low volatility (Pre-2015 & Post-2020):** More predictable price movements indicated stable but lower growth potential.\n",
    "\n",
    "    - **Correlation analysis** confirmed that **market fluctuations were significantly influenced by financial events**.\n",
    "\n",
    "\n",
    "\n",
    "3. **Investment & Trading Insights**\n",
    "\n",
    "    - **Profitable Investments:** Early investors (before 2015) gained significantly if they exited at the **2017-2018 peak**.\n",
    "\n",
    "    - **Risk Factors:** Investors who entered after 2018 faced **substantial losses due to rapid stock decline**.\n",
    "\n",
    "    - **Trading Opportunities:**\n",
    "\n",
    "        - **Buying:** Prices below ₹50 post-2020 presented **low-risk long-term potential**.\n",
    "\n",
    "        - **Selling:** Price peaks near ₹300-350 (2017-2018) were **ideal exit points for maximizing gains**.\n",
    "\n",
    "\n",
    "\n",
    "4. **Impact of Financial Market Events**\n",
    "\n",
    "    - **Regulatory interventions, banking crises, and economic downturns significantly affected stock stability**.\n",
    "\n",
    "    - **Volatility patterns aligned closely with external financial disruptions, confirming market sensitivity**.\n",
    "\n",
    "\n",
    "\n",
    "5. **Data-Driven Insights for Analysts & Forecasting**\n",
    "\n",
    "    - **Predictive modeling** can be developed based on strong correlations between **Open, High, Low, and Close prices**.\n",
    "\n",
    "    - **Historical trends serve as a benchmark** for evaluating banking sector stocks under similar financial conditions.\n",
    "\n",
    "    - **Risk-reward ratios derived from this analysis can guide future investment strategies**.\n",
    "\n",
    "\n",
    "---\n",
    "\n",
    "\n",
    "**Final Thoughts:**\n",
    "\n",
    "The study of ***Yes Bank***’s stock performance reveals a **classic rise-and-fall pattern**, emphasizing the importance of **financial stability, governance, and risk management**. The insights extracted from this analysis serve as a **valuable resource for investors, traders, and financial analysts**, enabling them to make **informed, data-driven decisions** regarding banking sector investments.\n",
    "\n",
    "\n",
    "---"
   ]
  },
  {
   "cell_type": "markdown",
   "metadata": {
    "id": "9FgMJrgkWXmz"
   },
   "source": [
    "# ***Thank You!***"
   ]
  }
 ],
 "metadata": {
  "colab": {
   "collapsed_sections": [
    "vncDsAP0Gaoa",
    "FJNUwmbgGyua",
    "w6K7xa23Elo4",
    "yQaldy8SH6Dl",
    "PH-0ReGfmX4f",
    "mDgbUHAGgjLW",
    "O_i_v8NEhb9l",
    "HhfV-JJviCcP",
    "Y3lxredqlCYt",
    "3RnN4peoiCZX",
    "x71ZqKXriCWQ",
    "7hBIi_osiCS2",
    "JlHwYmJAmNHm",
    "35m5QtbWiB9F",
    "PoPl-ycgm1ru",
    "H0kj-8xxnORC",
    "nA9Y7ga8ng1Z",
    "PBTbrJXOngz2",
    "u3PMJOP6ngxN",
    "dauF4eBmngu3",
    "bKJF3rekwFvQ",
    "MSa1f5Uengrz",
    "GF8Ens_Soomf",
    "0wOQAZs5pc--",
    "K5QZ13OEpz2H",
    "lQ7QKXXCp7Bj",
    "448CDAPjqfQr",
    "KSlN3yHqYklG",
    "t6dVpIINYklI",
    "ijmpgYnKYklI",
    "-JiQyfWJYklI",
    "EM7whBJCYoAo",
    "fge-S5ZAYoAp",
    "85gYPyotYoAp",
    "RoGjAbkUYoAp",
    "4Of9eVA-YrdM",
    "iky9q4vBYrdO",
    "F6T5p64dYrdO",
    "y-Ehk30pYrdP",
    "bamQiAODYuh1",
    "QHF8YVU7Yuh3",
    "GwzvFGzlYuh3",
    "qYpmQ266Yuh3",
    "OH-pJp9IphqM",
    "bbFf2-_FphqN",
    "_ouA3fa0phqN",
    "Seke61FWphqN",
    "PIIx-8_IphqN",
    "t27r6nlMphqO",
    "r2jJGEOYphqO",
    "b0JNsNcRphqO",
    "BZR9WyysphqO",
    "jj7wYXLtphqO",
    "eZrbJ2SmphqO",
    "rFu4xreNphqO",
    "YJ55k-q6phqO",
    "gCFgpxoyphqP",
    "OVtJsKN_phqQ",
    "lssrdh5qphqQ",
    "U2RJ9gkRphqQ",
    "1M8mcRywphqQ",
    "tgIPom80phqQ",
    "JMzcOPDDphqR",
    "x-EpHcCOp1ci",
    "X_VqEhTip1ck",
    "8zGJKyg5p1ck",
    "PVzmfK_Ep1ck",
    "n3dbpmDWp1ck",
    "ylSl6qgtp1ck",
    "ZWILFDl5p1ck",
    "M7G43BXep1ck",
    "Ag9LCva-p1cl",
    "E6MkPsBcp1cl",
    "2cELzS2fp1cl",
    "3MPXvC8up1cl",
    "NC_X3p0fY2L0",
    "UV0SzAkaZNRQ",
    "YPEH6qLeZNRQ",
    "q29F0dvdveiT",
    "EXh0U9oCveiU",
    "22aHeOlLveiV",
    "JcMwzZxoAimU",
    "8G2x9gOozGDZ",
    "gCX9965dhzqZ",
    "gIfDvo9L0UH2"
   ],
   "private_outputs": true,
   "provenance": []
  },
  "kernelspec": {
   "display_name": "Python 3 (ipykernel)",
   "language": "python",
   "name": "python3"
  },
  "language_info": {
   "codemirror_mode": {
    "name": "ipython",
    "version": 3
   },
   "file_extension": ".py",
   "mimetype": "text/x-python",
   "name": "python",
   "nbconvert_exporter": "python",
   "pygments_lexer": "ipython3",
   "version": "3.12.5"
  }
 },
 "nbformat": 4,
 "nbformat_minor": 4
}
